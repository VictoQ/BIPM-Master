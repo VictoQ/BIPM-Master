{
 "cells": [
  {
   "cell_type": "code",
   "execution_count": 1,
   "metadata": {},
   "outputs": [],
   "source": [
    "%load_ext sql\n",
    "#Used to load sql extension"
   ]
  },
  {
   "cell_type": "code",
   "execution_count": 2,
   "metadata": {},
   "outputs": [],
   "source": [
    "%sql sqlite:///sqlite-dvdrental.db\n",
    "#This loads the Database in the Jupyter Notebook"
   ]
  },
  {
   "cell_type": "code",
   "execution_count": 3,
   "metadata": {},
   "outputs": [],
   "source": [
    "import sqlalchemy\n",
    "import matplotlib.pyplot as plt\n",
    "import pandas as pd\n",
    "import seaborn as sns"
   ]
  },
  {
   "cell_type": "code",
   "execution_count": 4,
   "metadata": {},
   "outputs": [
    {
     "name": "stdout",
     "output_type": "stream",
     "text": [
      " * sqlite:///sqlite-dvdrental.db\n",
      "Done.\n"
     ]
    },
    {
     "data": {
      "text/html": [
       "<table>\n",
       "    <thead>\n",
       "        <tr>\n",
       "            <th>film_id</th>\n",
       "            <th>title</th>\n",
       "            <th>description</th>\n",
       "            <th>release_year</th>\n",
       "            <th>language_id</th>\n",
       "            <th>original_language_id</th>\n",
       "            <th>rental_duration</th>\n",
       "            <th>rental_rate</th>\n",
       "            <th>length</th>\n",
       "            <th>replacement_cost</th>\n",
       "            <th>rating</th>\n",
       "            <th>special_features</th>\n",
       "            <th>last_update</th>\n",
       "        </tr>\n",
       "    </thead>\n",
       "    <tbody>\n",
       "        <tr>\n",
       "            <td>1</td>\n",
       "            <td>ACADEMY DINOSAUR</td>\n",
       "            <td>A Epic Drama of a Feminist And a Mad Scientist who must Battle a Teacher in The Canadian Rockies</td>\n",
       "            <td>2006</td>\n",
       "            <td>1</td>\n",
       "            <td>None</td>\n",
       "            <td>6</td>\n",
       "            <td>0.99</td>\n",
       "            <td>86</td>\n",
       "            <td>20.99</td>\n",
       "            <td>PG</td>\n",
       "            <td>Deleted Scenes,Behind the Scenes</td>\n",
       "            <td>2021-03-06 15:52:00</td>\n",
       "        </tr>\n",
       "    </tbody>\n",
       "</table>"
      ],
      "text/plain": [
       "[(1, 'ACADEMY DINOSAUR', 'A Epic Drama of a Feminist And a Mad Scientist who must Battle a Teacher in The Canadian Rockies', '2006', 1, None, 6, 0.99, 86, 20.99, 'PG', 'Deleted Scenes,Behind the Scenes', '2021-03-06 15:52:00')]"
      ]
     },
     "execution_count": 4,
     "metadata": {},
     "output_type": "execute_result"
    }
   ],
   "source": [
    "%%sql\n",
    "\n",
    "SELECT *\n",
    "FROM film\n",
    "LIMIT 1"
   ]
  },
  {
   "cell_type": "code",
   "execution_count": 5,
   "metadata": {},
   "outputs": [],
   "source": [
    "con = sqlalchemy.create_engine(\"sqlite:///sqlite-dvdrental.db\")"
   ]
  },
  {
   "cell_type": "code",
   "execution_count": 6,
   "metadata": {},
   "outputs": [],
   "source": [
    "# 1. Write a SQL Query that gives for each customer the average rental duration and the number of rentals\n",
    "avg_rental = pd.read_sql(\"\"\"\n",
    "SELECT\n",
    "    c.customer_id,\n",
    "    c.first_name,\n",
    "    c.last_name,\n",
    "    COUNT(r.rental_id) AS rental_count,\n",
    "    AVG(julianday(r.return_date) - julianday(r.rental_date)) AS average_duration\n",
    "FROM\n",
    "    customer c\n",
    "LEFT JOIN\n",
    "    rental r ON c.customer_id = r.customer_id\n",
    "GROUP BY\n",
    "    c.customer_id, c.first_name, c.last_name\n",
    "ORDER BY\n",
    "    c.customer_id\n",
    "\"\"\", con)\n",
    "#pd.read_sql = pandas function used to execute SQL query and fetch the data\n",
    "#(\"\"\"\") = This is where you type your SQL query\n",
    "#Con is the database connection which we defined earlier"
   ]
  },
  {
   "cell_type": "code",
   "execution_count": 7,
   "metadata": {},
   "outputs": [
    {
     "data": {
      "text/html": [
       "<div>\n",
       "<style scoped>\n",
       "    .dataframe tbody tr th:only-of-type {\n",
       "        vertical-align: middle;\n",
       "    }\n",
       "\n",
       "    .dataframe tbody tr th {\n",
       "        vertical-align: top;\n",
       "    }\n",
       "\n",
       "    .dataframe thead th {\n",
       "        text-align: right;\n",
       "    }\n",
       "</style>\n",
       "<table border=\"1\" class=\"dataframe\">\n",
       "  <thead>\n",
       "    <tr style=\"text-align: right;\">\n",
       "      <th></th>\n",
       "      <th>customer_id</th>\n",
       "      <th>first_name</th>\n",
       "      <th>last_name</th>\n",
       "      <th>rental_count</th>\n",
       "      <th>average_duration</th>\n",
       "    </tr>\n",
       "  </thead>\n",
       "  <tbody>\n",
       "    <tr>\n",
       "      <th>0</th>\n",
       "      <td>1</td>\n",
       "      <td>MARY</td>\n",
       "      <td>SMITH</td>\n",
       "      <td>32</td>\n",
       "      <td>4.470920</td>\n",
       "    </tr>\n",
       "    <tr>\n",
       "      <th>1</th>\n",
       "      <td>2</td>\n",
       "      <td>PATRICIA</td>\n",
       "      <td>JOHNSON</td>\n",
       "      <td>27</td>\n",
       "      <td>5.525077</td>\n",
       "    </tr>\n",
       "    <tr>\n",
       "      <th>2</th>\n",
       "      <td>3</td>\n",
       "      <td>LINDA</td>\n",
       "      <td>WILLIAMS</td>\n",
       "      <td>26</td>\n",
       "      <td>5.888488</td>\n",
       "    </tr>\n",
       "    <tr>\n",
       "      <th>3</th>\n",
       "      <td>4</td>\n",
       "      <td>BARBARA</td>\n",
       "      <td>JONES</td>\n",
       "      <td>22</td>\n",
       "      <td>3.945202</td>\n",
       "    </tr>\n",
       "    <tr>\n",
       "      <th>4</th>\n",
       "      <td>5</td>\n",
       "      <td>ELIZABETH</td>\n",
       "      <td>BROWN</td>\n",
       "      <td>38</td>\n",
       "      <td>5.069595</td>\n",
       "    </tr>\n",
       "    <tr>\n",
       "      <th>...</th>\n",
       "      <td>...</td>\n",
       "      <td>...</td>\n",
       "      <td>...</td>\n",
       "      <td>...</td>\n",
       "      <td>...</td>\n",
       "    </tr>\n",
       "    <tr>\n",
       "      <th>594</th>\n",
       "      <td>595</td>\n",
       "      <td>TERRENCE</td>\n",
       "      <td>GUNDERSON</td>\n",
       "      <td>30</td>\n",
       "      <td>4.936412</td>\n",
       "    </tr>\n",
       "    <tr>\n",
       "      <th>595</th>\n",
       "      <td>596</td>\n",
       "      <td>ENRIQUE</td>\n",
       "      <td>FORSYTHE</td>\n",
       "      <td>28</td>\n",
       "      <td>4.692078</td>\n",
       "    </tr>\n",
       "    <tr>\n",
       "      <th>596</th>\n",
       "      <td>597</td>\n",
       "      <td>FREDDIE</td>\n",
       "      <td>DUGGAN</td>\n",
       "      <td>25</td>\n",
       "      <td>4.674942</td>\n",
       "    </tr>\n",
       "    <tr>\n",
       "      <th>597</th>\n",
       "      <td>598</td>\n",
       "      <td>WADE</td>\n",
       "      <td>DELVALLE</td>\n",
       "      <td>22</td>\n",
       "      <td>5.825789</td>\n",
       "    </tr>\n",
       "    <tr>\n",
       "      <th>598</th>\n",
       "      <td>599</td>\n",
       "      <td>AUSTIN</td>\n",
       "      <td>CINTRON</td>\n",
       "      <td>19</td>\n",
       "      <td>5.510307</td>\n",
       "    </tr>\n",
       "  </tbody>\n",
       "</table>\n",
       "<p>599 rows × 5 columns</p>\n",
       "</div>"
      ],
      "text/plain": [
       "     customer_id first_name  last_name  rental_count  average_duration\n",
       "0              1       MARY      SMITH            32          4.470920\n",
       "1              2   PATRICIA    JOHNSON            27          5.525077\n",
       "2              3      LINDA   WILLIAMS            26          5.888488\n",
       "3              4    BARBARA      JONES            22          3.945202\n",
       "4              5  ELIZABETH      BROWN            38          5.069595\n",
       "..           ...        ...        ...           ...               ...\n",
       "594          595   TERRENCE  GUNDERSON            30          4.936412\n",
       "595          596    ENRIQUE   FORSYTHE            28          4.692078\n",
       "596          597    FREDDIE     DUGGAN            25          4.674942\n",
       "597          598       WADE   DELVALLE            22          5.825789\n",
       "598          599     AUSTIN    CINTRON            19          5.510307\n",
       "\n",
       "[599 rows x 5 columns]"
      ]
     },
     "execution_count": 7,
     "metadata": {},
     "output_type": "execute_result"
    }
   ],
   "source": [
    "avg_rental"
   ]
  },
  {
   "cell_type": "code",
   "execution_count": 8,
   "metadata": {},
   "outputs": [
    {
     "data": {
      "text/plain": [
       "<Axes: xlabel='rental_count', ylabel='average_duration'>"
      ]
     },
     "execution_count": 8,
     "metadata": {},
     "output_type": "execute_result"
    },
    {
     "data": {
      "image/png": "[encoded data removed]",
      "text/plain": [
       "<Figure size 640x480 with 1 Axes>"
      ]
     },
     "metadata": {},
     "output_type": "display_data"
    }
   ],
   "source": [
    "# 2. Load the data from your SQL query into a Python Pandas DataFrame. Create a Seaborn regression plot, which is a scatterplot with a regression line\n",
    "sns.set_style(\"whitegrid\")\n",
    "sns.regplot(x='rental_count', y='average_duration', data=avg_rental)\n",
    "#Rental_count and average rental duration are positively correlated "
   ]
  },
  {
   "cell_type": "code",
   "execution_count": 9,
   "metadata": {},
   "outputs": [],
   "source": [
    "# 3, 5, 7. Adding of mathematical formulas through LaTeXX equation"
   ]
  },
  {
   "cell_type": "markdown",
   "metadata": {},
   "source": [
    "$$\\overline{x} = \\frac{1}{n} \\sum_{i=1}^{n} x_{i}$$\n",
    "$$\\text{Variance (\\(\\sigma^2\\)):}\\sigma^2 = \\frac{1}{N} \\sum_{i=1}^{N} (x_i - \\mu)^2$$\n",
    "$$\\text{Standard Deviation (\\(\\sigma\\)):}\\sigma = \\sqrt{\\sigma^2}$$\n",
    "$$\\text{Cov}(X, Y) = \\frac{1}{n} \\sum_{i=1}^{n} (x_i - \\bar{x})(y_i - \\bar{y})$$\n",
    "$$\\rho(X, Y) = \\frac{\\text{Cov}(X, Y)}{\\sigma_X \\cdot \\sigma_Y}$$\n"
   ]
  },
  {
   "cell_type": "code",
   "execution_count": 10,
   "metadata": {},
   "outputs": [
    {
     "name": "stdout",
     "output_type": "stream",
     "text": [
      "Mean Average Rental Duration 5.018504065141673\n",
      "Mean Rental Count 26.784641068447414\n"
     ]
    }
   ],
   "source": [
    "# 4. Calculate the mean for average rental duration and the number of rentals in Pandas\n",
    "#Above is the formula for the mean, varriance and standard deviaton --> we used LaTeX equation in a Markdown cell to render the formula\n",
    "\n",
    "mean_average_rental_duration = avg_rental['average_duration'].mean()\n",
    "\n",
    "mean_rental_count = avg_rental['rental_count'].mean()\n",
    "\n",
    "print(\"Mean Average Rental Duration\", mean_average_rental_duration)\n",
    "\n",
    "print('Mean Rental Count', mean_rental_count)\n"
   ]
  },
  {
   "cell_type": "code",
   "execution_count": 11,
   "metadata": {},
   "outputs": [
    {
     "name": "stdout",
     "output_type": "stream",
     "text": [
      "variance average rental duration 0.2770518427734295\n",
      "std average rental duration 0.526357143746933\n",
      "variance rental count 26.115750330818926\n",
      "std rental count 5.110357162744981\n"
     ]
    }
   ],
   "source": [
    "# 6. Calculate the variance and standard deviations for the average rental duration an the number of retals in Pandas\n",
    "variance_duration = avg_rental['average_duration'].var()\n",
    "std_duration = avg_rental['average_duration'].std()\n",
    "variance_rental = avg_rental['rental_count'].var()\n",
    "std_rental = avg_rental['rental_count'].std()\n",
    "\n",
    "print('variance average rental duration', variance_duration)\n",
    "print('std average rental duration', std_duration)\n",
    "print('variance rental count', variance_rental)\n",
    "print('std rental count', std_rental)\n",
    "# rental duration has small variance & small std -->data points tend to cluster arround the mean\n",
    "# number of rentals data points are more spread out from the mean, resulting in a higher variance and std -->\n",
    "# --> more variability in the number of rentals among customers\n"
   ]
  },
  {
   "cell_type": "code",
   "execution_count": 12,
   "metadata": {},
   "outputs": [
    {
     "name": "stdout",
     "output_type": "stream",
     "text": [
      "0.176111404956361\n"
     ]
    }
   ],
   "source": [
    "# 8. Calculate in Pandas the covariance between the average rental duration and the number of rentals\n",
    "\n",
    "covariance = avg_rental['average_duration'].cov(avg_rental['rental_count'])\n",
    "print(covariance)\n",
    "# indication for weak positive relationshop between average duration and rental count\n",
    "# However, it's important to note that covariance doesn't provide a standardized measure of the strength or direction of the relationship.\n",
    "# To better understand the strength and direction, you might want to calculate the correlation coefficient (Pearson's correlation coefficient), \n",
    "# which ranges between -1 and 1. A positive correlation coefficient would confirm a positive relationship, and its magnitude would indicate\n",
    "#  the strength of that relationship."
   ]
  },
  {
   "cell_type": "code",
   "execution_count": 13,
   "metadata": {},
   "outputs": [
    {
     "name": "stdout",
     "output_type": "stream",
     "text": [
      "0.06547201484062815\n"
     ]
    }
   ],
   "source": [
    "# 9. Calculate the Pearson's correlation coefficient in Pandas between average rental duration and number of rentals\n",
    "correlation_coefficient = avg_rental['average_duration'].corr(avg_rental['rental_count'])\n",
    "print(correlation_coefficient)"
   ]
  },
  {
   "cell_type": "code",
   "execution_count": 14,
   "metadata": {},
   "outputs": [
    {
     "name": "stdout",
     "output_type": "stream",
     "text": [
      "           n         r          CI95%     p-val   BF10     power\n",
      "pearson  599  0.065472  [-0.01, 0.14]  0.109429  0.184  0.360284\n"
     ]
    }
   ],
   "source": [
    "# 10 Use Pingouin to calculate Pearson's correlation between average rental duration and number of rentals\n",
    "# 11 Add a markdown cell an describe the meaning of the p-value. What would you recommend to the CEO?\n",
    "import pingouin as pg\n",
    "pingu_corr = pg.corr(avg_rental['average_duration'], avg_rental['rental_count'], method = 'pearson')\n",
    "print(pingu_corr)\n",
    "# n = samle size\n",
    "# r = Pearson correlation coefficient\n",
    "# CI95% = 95% confidence interval for the correlation coefficient"
   ]
  },
  {
   "cell_type": "markdown",
   "metadata": {},
   "source": [
    " The p-value, short for \"probability value,\" is a crucial concept in statistics, particularly in hypothesis testing. It represents the probability of observing a test statistic (or something more extreme) if the null hypothesis is true. In simpler terms, it tells you how likely it is to obtain the observed results purely by chance.\n",
    "\n",
    "In hypothesis testing, you start with a null hypothesis (H0), which is a statement of no effect or no difference, and an alternative hypothesis (H1), which is what you want to test. The p-value helps you decide whether you should reject the null hypothesis or not.\n",
    "\n",
    "If p-value ≤ α (the chosen significance level, often 0.05): You have evidence to reject the null hypothesis. This suggests that your results are statistically significant, and you can conclude that there is an effect or a difference.\n",
    "\n",
    "If p-value > α: You do not have enough evidence to reject the null hypothesis. This suggests that your results could have occurred by random chance, and you do not have statistical significance.\n",
    "\n",
    "In summary, the p-value is an essential tool for assessing the significance of statistical results. In this specific case, it suggests that more investigation or data might be needed before making significant decisions based on the correlation observed.\n",
    "\n",
    "\n",
    "Recommendation for CEO:\n",
    "Because the p-val is greater than our significance lvl (0.05), it suggests that our results could've occured by random chance and there is no statistical significance \n",
    "--> because of the lack of statistical significance, I'd recommend caution in drawing strong conclusions based solely on this correlation"
   ]
  }
 ],
 "metadata": {
  "kernelspec": {
   "display_name": "Python 3",
   "language": "python",
   "name": "python3"
  },
  "language_info": {
   "codemirror_mode": {
    "name": "ipython",
    "version": 3
   },
   "file_extension": ".py",
   "mimetype": "text/x-python",
   "name": "python",
   "nbconvert_exporter": "python",
   "pygments_lexer": "ipython3",
   "version": "3.11.6"
  }
 },
 "nbformat": 4,
 "nbformat_minor": 2
}
