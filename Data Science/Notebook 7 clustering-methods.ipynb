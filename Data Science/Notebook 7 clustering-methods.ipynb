{
 "cells": [
  {
   "cell_type": "code",
   "execution_count": 1,
   "metadata": {
    "_cell_guid": "b1076dfc-b9ad-4769-8c92-a6c4dae69d19",
    "_uuid": "8f2839f25d086af736a60e9eeb907d3b93b6e0e5",
    "execution": {
     "iopub.execute_input": "2023-12-02T17:26:14.013732Z",
     "iopub.status.busy": "2023-12-02T17:26:14.012534Z",
     "iopub.status.idle": "2023-12-02T17:26:14.020178Z",
     "shell.execute_reply": "2023-12-02T17:26:14.020831Z",
     "shell.execute_reply.started": "2023-12-02T17:24:46.577978Z"
    },
    "papermill": {
     "duration": 0.045891,
     "end_time": "2023-12-02T17:26:14.021062",
     "exception": false,
     "start_time": "2023-12-02T17:26:13.975171",
     "status": "completed"
    },
    "tags": []
   },
   "outputs": [],
   "source": [
    "import numpy as np # linear algebra\n",
    "import pandas as pd # data processing, CSV file I/O (e.g. pd.read_csv)\n"
   ]
  },
  {
   "cell_type": "markdown",
   "metadata": {
    "papermill": {
     "duration": 0.031057,
     "end_time": "2023-12-02T17:26:14.084304",
     "exception": false,
     "start_time": "2023-12-02T17:26:14.053247",
     "status": "completed"
    },
    "tags": []
   },
   "source": [
    "# Create Data"
   ]
  },
  {
   "cell_type": "code",
   "execution_count": 2,
   "metadata": {
    "execution": {
     "iopub.execute_input": "2023-12-02T17:26:14.151311Z",
     "iopub.status.busy": "2023-12-02T17:26:14.150199Z",
     "iopub.status.idle": "2023-12-02T17:26:14.158139Z",
     "shell.execute_reply": "2023-12-02T17:26:14.158729Z",
     "shell.execute_reply.started": "2023-12-02T17:24:46.590337Z"
    },
    "papermill": {
     "duration": 0.043265,
     "end_time": "2023-12-02T17:26:14.158915",
     "exception": false,
     "start_time": "2023-12-02T17:26:14.115650",
     "status": "completed"
    },
    "tags": []
   },
   "outputs": [],
   "source": [
    "data = np.array([[8,12], [12,17],[20,20], [25,10],[22,35],[81,65], [70,75],[55,65],[51,60],[85,93]])"
   ]
  },
  {
   "cell_type": "code",
   "execution_count": 3,
   "metadata": {
    "execution": {
     "iopub.execute_input": "2023-12-02T17:26:14.229574Z",
     "iopub.status.busy": "2023-12-02T17:26:14.228460Z",
     "iopub.status.idle": "2023-12-02T17:26:14.233197Z",
     "shell.execute_reply": "2023-12-02T17:26:14.233758Z",
     "shell.execute_reply.started": "2023-12-02T17:24:46.603333Z"
    },
    "papermill": {
     "duration": 0.043987,
     "end_time": "2023-12-02T17:26:14.233933",
     "exception": false,
     "start_time": "2023-12-02T17:26:14.189946",
     "status": "completed"
    },
    "tags": []
   },
   "outputs": [],
   "source": [
    "points = range(1, 11)"
   ]
  },
  {
   "cell_type": "markdown",
   "metadata": {
    "papermill": {
     "duration": 0.031687,
     "end_time": "2023-12-02T17:26:14.296716",
     "exception": false,
     "start_time": "2023-12-02T17:26:14.265029",
     "status": "completed"
    },
    "tags": []
   },
   "source": [
    "## The Python `zip` function interleaves lists "
   ]
  },
  {
   "cell_type": "code",
   "execution_count": 4,
   "metadata": {
    "execution": {
     "iopub.execute_input": "2023-12-02T17:26:14.364899Z",
     "iopub.status.busy": "2023-12-02T17:26:14.363739Z",
     "iopub.status.idle": "2023-12-02T17:26:14.374043Z",
     "shell.execute_reply": "2023-12-02T17:26:14.374660Z",
     "shell.execute_reply.started": "2023-12-02T17:25:10.547719Z"
    },
    "papermill": {
     "duration": 0.046486,
     "end_time": "2023-12-02T17:26:14.374840",
     "exception": false,
     "start_time": "2023-12-02T17:26:14.328354",
     "status": "completed"
    },
    "tags": []
   },
   "outputs": [
    {
     "data": {
      "text/plain": [
       "[(1, 8, 12),\n",
       " (2, 12, 17),\n",
       " (3, 20, 20),\n",
       " (4, 25, 10),\n",
       " (5, 22, 35),\n",
       " (6, 81, 65),\n",
       " (7, 70, 75),\n",
       " (8, 55, 65),\n",
       " (9, 51, 60),\n",
       " (10, 85, 93)]"
      ]
     },
     "execution_count": 4,
     "metadata": {},
     "output_type": "execute_result"
    }
   ],
   "source": [
    "list(zip(points, data[:,0], data[:,1]))"
   ]
  },
  {
   "cell_type": "markdown",
   "metadata": {
    "papermill": {
     "duration": 0.032574,
     "end_time": "2023-12-02T17:26:14.440542",
     "exception": false,
     "start_time": "2023-12-02T17:26:14.407968",
     "status": "completed"
    },
    "tags": []
   },
   "source": [
    "# Data Visualization"
   ]
  },
  {
   "cell_type": "code",
   "execution_count": 5,
   "metadata": {
    "execution": {
     "iopub.execute_input": "2023-12-02T17:26:14.513249Z",
     "iopub.status.busy": "2023-12-02T17:26:14.512380Z",
     "iopub.status.idle": "2023-12-02T17:26:14.515710Z",
     "shell.execute_reply": "2023-12-02T17:26:14.515116Z",
     "shell.execute_reply.started": "2023-12-02T17:24:46.632958Z"
    },
    "papermill": {
     "duration": 0.043203,
     "end_time": "2023-12-02T17:26:14.515846",
     "exception": false,
     "start_time": "2023-12-02T17:26:14.472643",
     "status": "completed"
    },
    "tags": []
   },
   "outputs": [],
   "source": [
    "%matplotlib inline\n",
    "import matplotlib.pyplot as plt"
   ]
  },
  {
   "cell_type": "code",
   "execution_count": 6,
   "metadata": {
    "execution": {
     "iopub.execute_input": "2023-12-02T17:26:14.584540Z",
     "iopub.status.busy": "2023-12-02T17:26:14.583682Z",
     "iopub.status.idle": "2023-12-02T17:26:14.870655Z",
     "shell.execute_reply": "2023-12-02T17:26:14.869753Z",
     "shell.execute_reply.started": "2023-12-02T17:24:46.645565Z"
    },
    "papermill": {
     "duration": 0.322429,
     "end_time": "2023-12-02T17:26:14.870918",
     "exception": false,
     "start_time": "2023-12-02T17:26:14.548489",
     "status": "completed"
    },
    "tags": []
   },
   "outputs": [
    {
     "data": {
      "image/png": "[encoded data removed]",
      "text/plain": [
       "<Figure size 800x600 with 1 Axes>"
      ]
     },
     "metadata": {},
     "output_type": "display_data"
    }
   ],
   "source": [
    "plt.figure(figsize=(8,6))\n",
    "plt.scatter(data[:,0], data[:,1], color=\"r\", s=100, edgecolor=\"k\")\n",
    "for point, x, y in zip(points, data[:,0], data[:,1]):\n",
    "    plt.annotate(point, xy=(x, y), xytext=(-9, 7), textcoords='offset points')\n",
    "plt.show()"
   ]
  },
  {
   "cell_type": "markdown",
   "metadata": {
    "papermill": {
     "duration": 0.04051,
     "end_time": "2023-12-02T17:26:14.945087",
     "exception": false,
     "start_time": "2023-12-02T17:26:14.904577",
     "status": "completed"
    },
    "tags": []
   },
   "source": [
    "# Partitioning clustering: K-Means"
   ]
  },
  {
   "cell_type": "code",
   "execution_count": 7,
   "metadata": {
    "execution": {
     "iopub.execute_input": "2023-12-02T17:26:15.029449Z",
     "iopub.status.busy": "2023-12-02T17:26:15.028433Z",
     "iopub.status.idle": "2023-12-02T17:26:16.433801Z",
     "shell.execute_reply": "2023-12-02T17:26:16.432320Z",
     "shell.execute_reply.started": "2023-12-02T17:24:46.859356Z"
    },
    "papermill": {
     "duration": 1.443397,
     "end_time": "2023-12-02T17:26:16.433970",
     "exception": false,
     "start_time": "2023-12-02T17:26:14.990573",
     "status": "completed"
    },
    "tags": []
   },
   "outputs": [],
   "source": [
    "from sklearn.cluster import KMeans"
   ]
  },
  {
   "cell_type": "code",
   "execution_count": 8,
   "metadata": {
    "execution": {
     "iopub.execute_input": "2023-12-02T17:26:16.504935Z",
     "iopub.status.busy": "2023-12-02T17:26:16.504162Z",
     "iopub.status.idle": "2023-12-02T17:26:16.506821Z",
     "shell.execute_reply": "2023-12-02T17:26:16.507398Z",
     "shell.execute_reply.started": "2023-12-02T17:24:46.866683Z"
    },
    "papermill": {
     "duration": 0.041008,
     "end_time": "2023-12-02T17:26:16.507553",
     "exception": false,
     "start_time": "2023-12-02T17:26:16.466545",
     "status": "completed"
    },
    "tags": []
   },
   "outputs": [],
   "source": [
    "k = 3\n",
    "kmeans = KMeans(n_clusters=k, random_state=21)"
   ]
  },
  {
   "cell_type": "code",
   "execution_count": 9,
   "metadata": {
    "execution": {
     "iopub.execute_input": "2023-12-02T17:26:16.576776Z",
     "iopub.status.busy": "2023-12-02T17:26:16.576023Z",
     "iopub.status.idle": "2023-12-02T17:26:16.617315Z",
     "shell.execute_reply": "2023-12-02T17:26:16.617908Z",
     "shell.execute_reply.started": "2023-12-02T17:24:46.880703Z"
    },
    "papermill": {
     "duration": 0.078124,
     "end_time": "2023-12-02T17:26:16.618089",
     "exception": false,
     "start_time": "2023-12-02T17:26:16.539965",
     "status": "completed"
    },
    "tags": []
   },
   "outputs": [
    {
     "name": "stderr",
     "output_type": "stream",
     "text": [
      "C:\\Users\\Vic\\AppData\\Local\\Packages\\PythonSoftwareFoundation.Python.3.11_qbz5n2kfra8p0\\LocalCache\\local-packages\\Python311\\site-packages\\sklearn\\cluster\\_kmeans.py:1416: FutureWarning: The default value of `n_init` will change from 10 to 'auto' in 1.4. Set the value of `n_init` explicitly to suppress the warning\n",
      "  super()._check_params_vs_input(X, default_n_init=10)\n"
     ]
    },
    {
     "data": {
      "text/html": [
       "<style>#sk-container-id-1 {color: black;}#sk-container-id-1 pre{padding: 0;}#sk-container-id-1 div.sk-toggleable {background-color: white;}#sk-container-id-1 label.sk-toggleable__label {cursor: pointer;display: block;width: 100%;margin-bottom: 0;padding: 0.3em;box-sizing: border-box;text-align: center;}#sk-container-id-1 label.sk-toggleable__label-arrow:before {content: \"▸\";float: left;margin-right: 0.25em;color: #696969;}#sk-container-id-1 label.sk-toggleable__label-arrow:hover:before {color: black;}#sk-container-id-1 div.sk-estimator:hover label.sk-toggleable__label-arrow:before {color: black;}#sk-container-id-1 div.sk-toggleable__content {max-height: 0;max-width: 0;overflow: hidden;text-align: left;background-color: #f0f8ff;}#sk-container-id-1 div.sk-toggleable__content pre {margin: 0.2em;color: black;border-radius: 0.25em;background-color: #f0f8ff;}#sk-container-id-1 input.sk-toggleable__control:checked~div.sk-toggleable__content {max-height: 200px;max-width: 100%;overflow: auto;}#sk-container-id-1 input.sk-toggleable__control:checked~label.sk-toggleable__label-arrow:before {content: \"▾\";}#sk-container-id-1 div.sk-estimator input.sk-toggleable__control:checked~label.sk-toggleable__label {background-color: #d4ebff;}#sk-container-id-1 div.sk-label input.sk-toggleable__control:checked~label.sk-toggleable__label {background-color: #d4ebff;}#sk-container-id-1 input.sk-hidden--visually {border: 0;clip: rect(1px 1px 1px 1px);clip: rect(1px, 1px, 1px, 1px);height: 1px;margin: -1px;overflow: hidden;padding: 0;position: absolute;width: 1px;}#sk-container-id-1 div.sk-estimator {font-family: monospace;background-color: #f0f8ff;border: 1px dotted black;border-radius: 0.25em;box-sizing: border-box;margin-bottom: 0.5em;}#sk-container-id-1 div.sk-estimator:hover {background-color: #d4ebff;}#sk-container-id-1 div.sk-parallel-item::after {content: \"\";width: 100%;border-bottom: 1px solid gray;flex-grow: 1;}#sk-container-id-1 div.sk-label:hover label.sk-toggleable__label {background-color: #d4ebff;}#sk-container-id-1 div.sk-serial::before {content: \"\";position: absolute;border-left: 1px solid gray;box-sizing: border-box;top: 0;bottom: 0;left: 50%;z-index: 0;}#sk-container-id-1 div.sk-serial {display: flex;flex-direction: column;align-items: center;background-color: white;padding-right: 0.2em;padding-left: 0.2em;position: relative;}#sk-container-id-1 div.sk-item {position: relative;z-index: 1;}#sk-container-id-1 div.sk-parallel {display: flex;align-items: stretch;justify-content: center;background-color: white;position: relative;}#sk-container-id-1 div.sk-item::before, #sk-container-id-1 div.sk-parallel-item::before {content: \"\";position: absolute;border-left: 1px solid gray;box-sizing: border-box;top: 0;bottom: 0;left: 50%;z-index: -1;}#sk-container-id-1 div.sk-parallel-item {display: flex;flex-direction: column;z-index: 1;position: relative;background-color: white;}#sk-container-id-1 div.sk-parallel-item:first-child::after {align-self: flex-end;width: 50%;}#sk-container-id-1 div.sk-parallel-item:last-child::after {align-self: flex-start;width: 50%;}#sk-container-id-1 div.sk-parallel-item:only-child::after {width: 0;}#sk-container-id-1 div.sk-dashed-wrapped {border: 1px dashed gray;margin: 0 0.4em 0.5em 0.4em;box-sizing: border-box;padding-bottom: 0.4em;background-color: white;}#sk-container-id-1 div.sk-label label {font-family: monospace;font-weight: bold;display: inline-block;line-height: 1.2em;}#sk-container-id-1 div.sk-label-container {text-align: center;}#sk-container-id-1 div.sk-container {/* jupyter's `normalize.less` sets `[hidden] { display: none; }` but bootstrap.min.css set `[hidden] { display: none !important; }` so we also need the `!important` here to be able to override the default hidden behavior on the sphinx rendered scikit-learn.org. See: https://github.com/scikit-learn/scikit-learn/issues/21755 */display: inline-block !important;position: relative;}#sk-container-id-1 div.sk-text-repr-fallback {display: none;}</style><div id=\"sk-container-id-1\" class=\"sk-top-container\"><div class=\"sk-text-repr-fallback\"><pre>KMeans(n_clusters=3, random_state=21)</pre><b>In a Jupyter environment, please rerun this cell to show the HTML representation or trust the notebook. <br />On GitHub, the HTML representation is unable to render, please try loading this page with nbviewer.org.</b></div><div class=\"sk-container\" hidden><div class=\"sk-item\"><div class=\"sk-estimator sk-toggleable\"><input class=\"sk-toggleable__control sk-hidden--visually\" id=\"sk-estimator-id-1\" type=\"checkbox\" checked><label for=\"sk-estimator-id-1\" class=\"sk-toggleable__label sk-toggleable__label-arrow\">KMeans</label><div class=\"sk-toggleable__content\"><pre>KMeans(n_clusters=3, random_state=21)</pre></div></div></div></div></div>"
      ],
      "text/plain": [
       "KMeans(n_clusters=3, random_state=21)"
      ]
     },
     "execution_count": 9,
     "metadata": {},
     "output_type": "execute_result"
    }
   ],
   "source": [
    "kmeans.fit(data)\n",
    "# only 1 parameter only the features, because its unsupervised"
   ]
  },
  {
   "cell_type": "code",
   "execution_count": 10,
   "metadata": {
    "execution": {
     "iopub.execute_input": "2023-12-02T17:26:16.687672Z",
     "iopub.status.busy": "2023-12-02T17:26:16.686912Z",
     "iopub.status.idle": "2023-12-02T17:26:16.693645Z",
     "shell.execute_reply": "2023-12-02T17:26:16.694280Z",
     "shell.execute_reply.started": "2023-12-02T17:24:46.920907Z"
    },
    "papermill": {
     "duration": 0.043342,
     "end_time": "2023-12-02T17:26:16.694461",
     "exception": false,
     "start_time": "2023-12-02T17:26:16.651119",
     "status": "completed"
    },
    "tags": []
   },
   "outputs": [
    {
     "data": {
      "text/plain": [
       "array([[17.4       , 18.8       ],\n",
       "       [78.66666667, 77.66666667],\n",
       "       [53.        , 62.5       ]])"
      ]
     },
     "execution_count": 10,
     "metadata": {},
     "output_type": "execute_result"
    }
   ],
   "source": [
    "centroids = kmeans.cluster_centers_\n",
    "centroids"
   ]
  },
  {
   "cell_type": "code",
   "execution_count": 11,
   "metadata": {
    "execution": {
     "iopub.execute_input": "2023-12-02T17:26:16.766012Z",
     "iopub.status.busy": "2023-12-02T17:26:16.765237Z",
     "iopub.status.idle": "2023-12-02T17:26:16.772014Z",
     "shell.execute_reply": "2023-12-02T17:26:16.772625Z",
     "shell.execute_reply.started": "2023-12-02T17:24:46.932519Z"
    },
    "papermill": {
     "duration": 0.045121,
     "end_time": "2023-12-02T17:26:16.772805",
     "exception": false,
     "start_time": "2023-12-02T17:26:16.727684",
     "status": "completed"
    },
    "tags": []
   },
   "outputs": [
    {
     "data": {
      "text/plain": [
       "array([0, 0, 0, 0, 0, 1, 1, 2, 2, 1])"
      ]
     },
     "execution_count": 11,
     "metadata": {},
     "output_type": "execute_result"
    }
   ],
   "source": [
    "clusters = kmeans.labels_\n",
    "clusters"
   ]
  },
  {
   "cell_type": "markdown",
   "metadata": {
    "papermill": {
     "duration": 0.033453,
     "end_time": "2023-12-02T17:26:16.840767",
     "exception": false,
     "start_time": "2023-12-02T17:26:16.807314",
     "status": "completed"
    },
    "tags": []
   },
   "source": [
    "## Intertia\n",
    "\n",
    "Sum of the squared distances of all points to the next centroid"
   ]
  },
  {
   "cell_type": "code",
   "execution_count": 12,
   "metadata": {
    "execution": {
     "iopub.execute_input": "2023-12-02T17:26:16.915565Z",
     "iopub.status.busy": "2023-12-02T17:26:16.914421Z",
     "iopub.status.idle": "2023-12-02T17:26:16.918206Z",
     "shell.execute_reply": "2023-12-02T17:26:16.918798Z",
     "shell.execute_reply.started": "2023-12-02T17:24:46.944572Z"
    },
    "papermill": {
     "duration": 0.043879,
     "end_time": "2023-12-02T17:26:16.918969",
     "exception": false,
     "start_time": "2023-12-02T17:26:16.875090",
     "status": "completed"
    },
    "tags": []
   },
   "outputs": [
    {
     "data": {
      "text/plain": [
       "1137.8333333333333"
      ]
     },
     "execution_count": 12,
     "metadata": {},
     "output_type": "execute_result"
    }
   ],
   "source": [
    "summe_qd = kmeans.inertia_\n",
    "summe_qd"
   ]
  },
  {
   "cell_type": "markdown",
   "metadata": {
    "papermill": {
     "duration": 0.036964,
     "end_time": "2023-12-02T17:26:16.990682",
     "exception": false,
     "start_time": "2023-12-02T17:26:16.953718",
     "status": "completed"
    },
    "tags": []
   },
   "source": [
    "# Visualization of the cluster assignment and the centroids"
   ]
  },
  {
   "cell_type": "code",
   "execution_count": 13,
   "metadata": {
    "execution": {
     "iopub.execute_input": "2023-12-02T17:26:17.064593Z",
     "iopub.status.busy": "2023-12-02T17:26:17.063634Z",
     "iopub.status.idle": "2023-12-02T17:26:17.276549Z",
     "shell.execute_reply": "2023-12-02T17:26:17.277268Z",
     "shell.execute_reply.started": "2023-12-02T17:24:46.958660Z"
    },
    "papermill": {
     "duration": 0.251452,
     "end_time": "2023-12-02T17:26:17.277452",
     "exception": false,
     "start_time": "2023-12-02T17:26:17.026000",
     "status": "completed"
    },
    "tags": []
   },
   "outputs": [
    {
     "data": {
      "image/png": "[encoded data removed]",
      "text/plain": [
       "<Figure size 800x600 with 1 Axes>"
      ]
     },
     "metadata": {},
     "output_type": "display_data"
    }
   ],
   "source": [
    "plt.figure(figsize=(8,6))\n",
    "plt.scatter(data[:,0], data[:,1], c=clusters, cmap=\"jet\", s=100, edgecolor=\"k\")\n",
    "for point, x, y in zip(points, data[:,0], data[:,1]):\n",
    "    plt.annotate(point, xy=(x, y), xytext=(-9, 7), textcoords='offset points')\n",
    "plt.scatter(centroids[:,0], centroids[:,1], marker=\"*\", color='black', s=100)\n",
    "plt.show()"
   ]
  },
  {
   "cell_type": "markdown",
   "metadata": {
    "papermill": {
     "duration": 0.035048,
     "end_time": "2023-12-02T17:26:17.349285",
     "exception": false,
     "start_time": "2023-12-02T17:26:17.314237",
     "status": "completed"
    },
    "tags": []
   },
   "source": [
    "# Elbow method for determining the number of clusters"
   ]
  },
  {
   "cell_type": "code",
   "execution_count": 14,
   "metadata": {
    "execution": {
     "iopub.execute_input": "2023-12-02T17:26:17.423423Z",
     "iopub.status.busy": "2023-12-02T17:26:17.422656Z",
     "iopub.status.idle": "2023-12-02T17:26:17.773328Z",
     "shell.execute_reply": "2023-12-02T17:26:17.772497Z",
     "shell.execute_reply.started": "2023-12-02T17:24:47.177009Z"
    },
    "papermill": {
     "duration": 0.389032,
     "end_time": "2023-12-02T17:26:17.773476",
     "exception": false,
     "start_time": "2023-12-02T17:26:17.384444",
     "status": "completed"
    },
    "tags": []
   },
   "outputs": [
    {
     "name": "stderr",
     "output_type": "stream",
     "text": [
      "C:\\Users\\Vic\\AppData\\Local\\Packages\\PythonSoftwareFoundation.Python.3.11_qbz5n2kfra8p0\\LocalCache\\local-packages\\Python311\\site-packages\\sklearn\\cluster\\_kmeans.py:1416: FutureWarning: The default value of `n_init` will change from 10 to 'auto' in 1.4. Set the value of `n_init` explicitly to suppress the warning\n",
      "  super()._check_params_vs_input(X, default_n_init=10)\n",
      "C:\\Users\\Vic\\AppData\\Local\\Packages\\PythonSoftwareFoundation.Python.3.11_qbz5n2kfra8p0\\LocalCache\\local-packages\\Python311\\site-packages\\sklearn\\cluster\\_kmeans.py:1416: FutureWarning: The default value of `n_init` will change from 10 to 'auto' in 1.4. Set the value of `n_init` explicitly to suppress the warning\n",
      "  super()._check_params_vs_input(X, default_n_init=10)\n",
      "C:\\Users\\Vic\\AppData\\Local\\Packages\\PythonSoftwareFoundation.Python.3.11_qbz5n2kfra8p0\\LocalCache\\local-packages\\Python311\\site-packages\\sklearn\\cluster\\_kmeans.py:1416: FutureWarning: The default value of `n_init` will change from 10 to 'auto' in 1.4. Set the value of `n_init` explicitly to suppress the warning\n",
      "  super()._check_params_vs_input(X, default_n_init=10)\n",
      "C:\\Users\\Vic\\AppData\\Local\\Packages\\PythonSoftwareFoundation.Python.3.11_qbz5n2kfra8p0\\LocalCache\\local-packages\\Python311\\site-packages\\sklearn\\cluster\\_kmeans.py:1416: FutureWarning: The default value of `n_init` will change from 10 to 'auto' in 1.4. Set the value of `n_init` explicitly to suppress the warning\n",
      "  super()._check_params_vs_input(X, default_n_init=10)\n",
      "C:\\Users\\Vic\\AppData\\Local\\Packages\\PythonSoftwareFoundation.Python.3.11_qbz5n2kfra8p0\\LocalCache\\local-packages\\Python311\\site-packages\\sklearn\\cluster\\_kmeans.py:1416: FutureWarning: The default value of `n_init` will change from 10 to 'auto' in 1.4. Set the value of `n_init` explicitly to suppress the warning\n",
      "  super()._check_params_vs_input(X, default_n_init=10)\n",
      "C:\\Users\\Vic\\AppData\\Local\\Packages\\PythonSoftwareFoundation.Python.3.11_qbz5n2kfra8p0\\LocalCache\\local-packages\\Python311\\site-packages\\sklearn\\cluster\\_kmeans.py:1416: FutureWarning: The default value of `n_init` will change from 10 to 'auto' in 1.4. Set the value of `n_init` explicitly to suppress the warning\n",
      "  super()._check_params_vs_input(X, default_n_init=10)\n",
      "C:\\Users\\Vic\\AppData\\Local\\Packages\\PythonSoftwareFoundation.Python.3.11_qbz5n2kfra8p0\\LocalCache\\local-packages\\Python311\\site-packages\\sklearn\\cluster\\_kmeans.py:1416: FutureWarning: The default value of `n_init` will change from 10 to 'auto' in 1.4. Set the value of `n_init` explicitly to suppress the warning\n",
      "  super()._check_params_vs_input(X, default_n_init=10)\n",
      "C:\\Users\\Vic\\AppData\\Local\\Packages\\PythonSoftwareFoundation.Python.3.11_qbz5n2kfra8p0\\LocalCache\\local-packages\\Python311\\site-packages\\sklearn\\cluster\\_kmeans.py:1416: FutureWarning: The default value of `n_init` will change from 10 to 'auto' in 1.4. Set the value of `n_init` explicitly to suppress the warning\n",
      "  super()._check_params_vs_input(X, default_n_init=10)\n",
      "C:\\Users\\Vic\\AppData\\Local\\Packages\\PythonSoftwareFoundation.Python.3.11_qbz5n2kfra8p0\\LocalCache\\local-packages\\Python311\\site-packages\\sklearn\\cluster\\_kmeans.py:1416: FutureWarning: The default value of `n_init` will change from 10 to 'auto' in 1.4. Set the value of `n_init` explicitly to suppress the warning\n",
      "  super()._check_params_vs_input(X, default_n_init=10)\n"
     ]
    }
   ],
   "source": [
    "sqds = []\n",
    "for k in range(1,10):\n",
    "    kmeans = KMeans(n_clusters = k, random_state=21)\n",
    "    kmeans.fit(data)\n",
    "    sqds.append(kmeans.inertia_)"
   ]
  },
  {
   "cell_type": "code",
   "execution_count": 15,
   "metadata": {
    "execution": {
     "iopub.execute_input": "2023-12-02T17:26:17.867823Z",
     "iopub.status.busy": "2023-12-02T17:26:17.861518Z",
     "iopub.status.idle": "2023-12-02T17:26:18.059615Z",
     "shell.execute_reply": "2023-12-02T17:26:18.058975Z",
     "shell.execute_reply.started": "2023-12-02T17:24:47.493332Z"
    },
    "papermill": {
     "duration": 0.249923,
     "end_time": "2023-12-02T17:26:18.059863",
     "exception": false,
     "start_time": "2023-12-02T17:26:17.809940",
     "status": "completed"
    },
    "tags": []
   },
   "outputs": [
    {
     "data": {
      "image/png": "[encoded data removed]",
      "text/plain": [
       "<Figure size 640x480 with 1 Axes>"
      ]
     },
     "metadata": {},
     "output_type": "display_data"
    }
   ],
   "source": [
    "plt.plot(range(1,10), sqds)\n",
    "plt.xlabel(\"Number of Cluster\")\n",
    "plt.ylabel(\"Sum of the squared distances \")\n",
    "plt.title(\"Elbow method\")\n",
    "plt.show()"
   ]
  },
  {
   "cell_type": "markdown",
   "metadata": {
    "papermill": {
     "duration": 0.037055,
     "end_time": "2023-12-02T17:26:18.134547",
     "exception": false,
     "start_time": "2023-12-02T17:26:18.097492",
     "status": "completed"
    },
    "tags": []
   },
   "source": [
    "# Hierarchical clustering"
   ]
  },
  {
   "cell_type": "markdown",
   "metadata": {
    "papermill": {
     "duration": 0.036142,
     "end_time": "2023-12-02T17:26:18.208080",
     "exception": false,
     "start_time": "2023-12-02T17:26:18.171938",
     "status": "completed"
    },
    "tags": []
   },
   "source": [
    "## Clustering with the SciPy library"
   ]
  },
  {
   "cell_type": "code",
   "execution_count": 16,
   "metadata": {
    "execution": {
     "iopub.execute_input": "2023-12-02T17:26:18.289283Z",
     "iopub.status.busy": "2023-12-02T17:26:18.288476Z",
     "iopub.status.idle": "2023-12-02T17:26:18.313972Z",
     "shell.execute_reply": "2023-12-02T17:26:18.313198Z",
     "shell.execute_reply.started": "2023-12-02T17:24:47.689940Z"
    },
    "papermill": {
     "duration": 0.068927,
     "end_time": "2023-12-02T17:26:18.314137",
     "exception": false,
     "start_time": "2023-12-02T17:26:18.245210",
     "status": "completed"
    },
    "tags": []
   },
   "outputs": [],
   "source": [
    "from scipy.cluster.hierarchy import dendrogram, linkage"
   ]
  },
  {
   "cell_type": "markdown",
   "metadata": {
    "papermill": {
     "duration": 0.03663,
     "end_time": "2023-12-02T17:26:18.387585",
     "exception": false,
     "start_time": "2023-12-02T17:26:18.350955",
     "status": "completed"
    },
    "tags": []
   },
   "source": [
    "### Clustering"
   ]
  },
  {
   "cell_type": "code",
   "execution_count": 17,
   "metadata": {
    "execution": {
     "iopub.execute_input": "2023-12-02T17:26:18.466894Z",
     "iopub.status.busy": "2023-12-02T17:26:18.465885Z",
     "iopub.status.idle": "2023-12-02T17:26:18.471154Z",
     "shell.execute_reply": "2023-12-02T17:26:18.470541Z",
     "shell.execute_reply.started": "2023-12-02T17:24:47.698525Z"
    },
    "papermill": {
     "duration": 0.047189,
     "end_time": "2023-12-02T17:26:18.471294",
     "exception": false,
     "start_time": "2023-12-02T17:26:18.424105",
     "status": "completed"
    },
    "tags": []
   },
   "outputs": [],
   "source": [
    "links = linkage(data, 'complete')"
   ]
  },
  {
   "cell_type": "markdown",
   "metadata": {
    "papermill": {
     "duration": 0.036271,
     "end_time": "2023-12-02T17:26:18.543852",
     "exception": false,
     "start_time": "2023-12-02T17:26:18.507581",
     "status": "completed"
    },
    "tags": []
   },
   "source": [
    "### Visualization of the Dendrograms"
   ]
  },
  {
   "cell_type": "code",
   "execution_count": 18,
   "metadata": {
    "execution": {
     "iopub.execute_input": "2023-12-02T17:26:18.624906Z",
     "iopub.status.busy": "2023-12-02T17:26:18.623757Z",
     "iopub.status.idle": "2023-12-02T17:26:18.627124Z",
     "shell.execute_reply": "2023-12-02T17:26:18.626438Z",
     "shell.execute_reply.started": "2023-12-02T17:24:47.710023Z"
    },
    "papermill": {
     "duration": 0.046114,
     "end_time": "2023-12-02T17:26:18.627253",
     "exception": false,
     "start_time": "2023-12-02T17:26:18.581139",
     "status": "completed"
    },
    "tags": []
   },
   "outputs": [],
   "source": [
    "points = range(1, 11)"
   ]
  },
  {
   "cell_type": "code",
   "execution_count": 19,
   "metadata": {
    "execution": {
     "iopub.execute_input": "2023-12-02T17:26:18.814637Z",
     "iopub.status.busy": "2023-12-02T17:26:18.813431Z",
     "iopub.status.idle": "2023-12-02T17:26:19.038217Z",
     "shell.execute_reply": "2023-12-02T17:26:19.037322Z",
     "shell.execute_reply.started": "2023-12-02T17:24:47.720213Z"
    },
    "papermill": {
     "duration": 0.374194,
     "end_time": "2023-12-02T17:26:19.038363",
     "exception": false,
     "start_time": "2023-12-02T17:26:18.664169",
     "status": "completed"
    },
    "tags": []
   },
   "outputs": [
    {
     "data": {
      "image/png": "[encoded data removed]",
      "text/plain": [
       "<Figure size 800x600 with 1 Axes>"
      ]
     },
     "metadata": {},
     "output_type": "display_data"
    }
   ],
   "source": [
    "plt.figure(figsize=(8, 6))\n",
    "dendrogram(links, labels=points)\n",
    "plt.show()"
   ]
  },
  {
   "cell_type": "markdown",
   "metadata": {
    "papermill": {
     "duration": 0.039288,
     "end_time": "2023-12-02T17:26:19.117559",
     "exception": false,
     "start_time": "2023-12-02T17:26:19.078271",
     "status": "completed"
    },
    "tags": []
   },
   "source": [
    "# Clustering with the scikit-learn library"
   ]
  },
  {
   "cell_type": "code",
   "execution_count": 20,
   "metadata": {
    "execution": {
     "iopub.execute_input": "2023-12-02T17:26:19.200152Z",
     "iopub.status.busy": "2023-12-02T17:26:19.198930Z",
     "iopub.status.idle": "2023-12-02T17:26:19.202533Z",
     "shell.execute_reply": "2023-12-02T17:26:19.201778Z",
     "shell.execute_reply.started": "2023-12-02T17:24:47.947424Z"
    },
    "papermill": {
     "duration": 0.046474,
     "end_time": "2023-12-02T17:26:19.202666",
     "exception": false,
     "start_time": "2023-12-02T17:26:19.156192",
     "status": "completed"
    },
    "tags": []
   },
   "outputs": [],
   "source": [
    "from sklearn.cluster import AgglomerativeClustering"
   ]
  },
  {
   "cell_type": "markdown",
   "metadata": {
    "papermill": {
     "duration": 0.036813,
     "end_time": "2023-12-02T17:26:19.277844",
     "exception": false,
     "start_time": "2023-12-02T17:26:19.241031",
     "status": "completed"
    },
    "tags": []
   },
   "source": [
    "## Clustering"
   ]
  },
  {
   "cell_type": "code",
   "execution_count": 21,
   "metadata": {
    "execution": {
     "iopub.execute_input": "2023-12-02T17:26:19.362268Z",
     "iopub.status.busy": "2023-12-02T17:26:19.361236Z",
     "iopub.status.idle": "2023-12-02T17:26:19.364279Z",
     "shell.execute_reply": "2023-12-02T17:26:19.364900Z",
     "shell.execute_reply.started": "2023-12-02T17:24:47.954740Z"
    },
    "papermill": {
     "duration": 0.04833,
     "end_time": "2023-12-02T17:26:19.365067",
     "exception": false,
     "start_time": "2023-12-02T17:26:19.316737",
     "status": "completed"
    },
    "tags": []
   },
   "outputs": [],
   "source": [
    "agglo = AgglomerativeClustering(n_clusters=3, linkage='complete')\n",
    "agglo.fit(data)\n",
    "clusters = agglo.labels_"
   ]
  },
  {
   "cell_type": "code",
   "execution_count": 22,
   "metadata": {
    "execution": {
     "iopub.execute_input": "2023-12-02T17:26:19.446178Z",
     "iopub.status.busy": "2023-12-02T17:26:19.444955Z",
     "iopub.status.idle": "2023-12-02T17:26:19.449865Z",
     "shell.execute_reply": "2023-12-02T17:26:19.449251Z",
     "shell.execute_reply.started": "2023-12-02T17:24:47.969379Z"
    },
    "papermill": {
     "duration": 0.047725,
     "end_time": "2023-12-02T17:26:19.450001",
     "exception": false,
     "start_time": "2023-12-02T17:26:19.402276",
     "status": "completed"
    },
    "tags": []
   },
   "outputs": [
    {
     "data": {
      "text/plain": [
       "array([1, 1, 1, 1, 1, 0, 0, 2, 2, 0], dtype=int64)"
      ]
     },
     "execution_count": 22,
     "metadata": {},
     "output_type": "execute_result"
    }
   ],
   "source": [
    "clusters"
   ]
  },
  {
   "cell_type": "markdown",
   "metadata": {
    "papermill": {
     "duration": 0.037056,
     "end_time": "2023-12-02T17:26:19.525898",
     "exception": false,
     "start_time": "2023-12-02T17:26:19.488842",
     "status": "completed"
    },
    "tags": []
   },
   "source": [
    "## Visualization"
   ]
  },
  {
   "cell_type": "code",
   "execution_count": 23,
   "metadata": {
    "execution": {
     "iopub.execute_input": "2023-12-02T17:26:19.612238Z",
     "iopub.status.busy": "2023-12-02T17:26:19.611390Z",
     "iopub.status.idle": "2023-12-02T17:26:19.809443Z",
     "shell.execute_reply": "2023-12-02T17:26:19.808594Z",
     "shell.execute_reply.started": "2023-12-02T17:24:47.980949Z"
    },
    "papermill": {
     "duration": 0.245258,
     "end_time": "2023-12-02T17:26:19.809577",
     "exception": false,
     "start_time": "2023-12-02T17:26:19.564319",
     "status": "completed"
    },
    "tags": []
   },
   "outputs": [
    {
     "data": {
      "image/png": "[encoded data removed]",
      "text/plain": [
       "<Figure size 800x600 with 1 Axes>"
      ]
     },
     "metadata": {},
     "output_type": "display_data"
    }
   ],
   "source": [
    "plt.figure(figsize=(8,6))\n",
    "plt.scatter(data[:,0], data[:,1], c=clusters, cmap=\"jet\", s=100, edgecolor=\"k\")\n",
    "for point, x, y in zip(points, data[:,0], data[:,1]):\n",
    "    plt.annotate(point, xy=(x, y), xytext=(-9, 7), textcoords='offset points')\n",
    "plt.show()"
   ]
  },
  {
   "cell_type": "code",
   "execution_count": null,
   "metadata": {
    "papermill": {
     "duration": 0.038559,
     "end_time": "2023-12-02T17:26:19.887946",
     "exception": false,
     "start_time": "2023-12-02T17:26:19.849387",
     "status": "completed"
    },
    "tags": []
   },
   "outputs": [],
   "source": []
  }
 ],
 "metadata": {
  "kaggle": {
   "accelerator": "none",
   "dataSources": [],
   "dockerImageVersionId": 30042,
   "isGpuEnabled": false,
   "isInternetEnabled": true,
   "language": "python",
   "sourceType": "notebook"
  },
  "kernelspec": {
   "display_name": "Python 3",
   "language": "python",
   "name": "python3"
  },
  "language_info": {
   "codemirror_mode": {
    "name": "ipython",
    "version": 3
   },
   "file_extension": ".py",
   "mimetype": "text/x-python",
   "name": "python",
   "nbconvert_exporter": "python",
   "pygments_lexer": "ipython3",
   "version": "3.11.6"
  },
  "papermill": {
   "duration": 11.573772,
   "end_time": "2023-12-02T17:26:20.037060",
   "environment_variables": {},
   "exception": null,
   "input_path": "__notebook__.ipynb",
   "output_path": "__notebook__.ipynb",
   "parameters": {},
   "start_time": "2023-12-02T17:26:08.463288",
   "version": "2.1.0"
  }
 },
 "nbformat": 4,
 "nbformat_minor": 4
}
