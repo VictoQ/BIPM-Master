{
 "cells": [
  {
   "cell_type": "markdown",
   "metadata": {},
   "source": [
    "# Kaggle Upload\n",
    "How to upload predictions to Kaggle"
   ]
  },
  {
   "cell_type": "markdown",
   "metadata": {},
   "source": [
    "## 1. Training Classifier on Hospital Dataset"
   ]
  },
  {
   "cell_type": "code",
   "execution_count": 1,
   "metadata": {},
   "outputs": [],
   "source": [
    "import pandas as pd\n",
    "from sklearn.model_selection import train_test_split\n",
    "from sklearn.tree import DecisionTreeClassifier"
   ]
  },
  {
   "cell_type": "code",
   "execution_count": 2,
   "metadata": {},
   "outputs": [],
   "source": [
    "hospital_df = pd.read_csv(\"C:/Users/Vic/Desktop/Data Scienece/Datasets-20231016/Dataset_Hospital_Visits.csv\", index_col=None)"
   ]
  },
  {
   "cell_type": "code",
   "execution_count": 3,
   "metadata": {},
   "outputs": [
    {
     "name": "stdout",
     "output_type": "stream",
     "text": [
      "<class 'pandas.core.frame.DataFrame'>\n",
      "RangeIndex: 88421 entries, 0 to 88420\n",
      "Data columns (total 14 columns):\n",
      " #   Column           Non-Null Count  Dtype  \n",
      "---  ------           --------------  -----  \n",
      " 0   PatientId        88421 non-null  float64\n",
      " 1   AppointmentID    88421 non-null  int64  \n",
      " 2   Sex              88421 non-null  object \n",
      " 3   ScheduledDate    88421 non-null  object \n",
      " 4   AppointmentDate  88421 non-null  object \n",
      " 5   Age              79614 non-null  float64\n",
      " 6   Community        77708 non-null  object \n",
      " 7   SocialWelfare    75902 non-null  object \n",
      " 8   Hipertension     80400 non-null  object \n",
      " 9   Diabetes         88421 non-null  object \n",
      " 10  Alcoholism       73532 non-null  object \n",
      " 11  Handcap          88421 non-null  object \n",
      " 12  SMS_received     88421 non-null  object \n",
      " 13  No-show          88421 non-null  object \n",
      "dtypes: float64(2), int64(1), object(11)\n",
      "memory usage: 9.4+ MB\n"
     ]
    }
   ],
   "source": [
    "hospital_df.info()"
   ]
  },
  {
   "cell_type": "code",
   "execution_count": 4,
   "metadata": {},
   "outputs": [],
   "source": [
    "# naive dummy coding approach. Your's should be better ;-)\n",
    "hospital_df['Sex'] = pd.factorize(hospital_df['Sex'])[0]\n",
    "hospital_df['Community'] = pd.factorize(hospital_df['Community'])[0]\n",
    "hospital_df['SocialWelfare'] = pd.factorize(hospital_df['SocialWelfare'])[0]\n",
    "hospital_df['Hipertension'] = pd.factorize(hospital_df['Hipertension'])[0]\n",
    "hospital_df['Diabetes'] = pd.factorize(hospital_df['Diabetes'])[0]\n",
    "hospital_df['Alcoholism'] = pd.factorize(hospital_df['Alcoholism'])[0]\n",
    "hospital_df['Handcap'] = pd.factorize(hospital_df['Handcap'])[0]\n",
    "hospital_df['SMS_received'] = pd.factorize(hospital_df['SMS_received'])[0]\n",
    "hospital_df['ScheduledDate'] = pd.factorize(hospital_df['ScheduledDate'])[0]\n",
    "hospital_df['AppointmentDate'] = pd.factorize(hospital_df['AppointmentDate'])[0]"
   ]
  },
  {
   "cell_type": "code",
   "execution_count": 5,
   "metadata": {},
   "outputs": [
    {
     "data": {
      "text/html": [
       "<div>\n",
       "<style scoped>\n",
       "    .dataframe tbody tr th:only-of-type {\n",
       "        vertical-align: middle;\n",
       "    }\n",
       "\n",
       "    .dataframe tbody tr th {\n",
       "        vertical-align: top;\n",
       "    }\n",
       "\n",
       "    .dataframe thead th {\n",
       "        text-align: right;\n",
       "    }\n",
       "</style>\n",
       "<table border=\"1\" class=\"dataframe\">\n",
       "  <thead>\n",
       "    <tr style=\"text-align: right;\">\n",
       "      <th></th>\n",
       "      <th>PatientId</th>\n",
       "      <th>AppointmentID</th>\n",
       "      <th>Sex</th>\n",
       "      <th>ScheduledDate</th>\n",
       "      <th>AppointmentDate</th>\n",
       "      <th>Age</th>\n",
       "      <th>Community</th>\n",
       "      <th>SocialWelfare</th>\n",
       "      <th>Hipertension</th>\n",
       "      <th>Diabetes</th>\n",
       "      <th>Alcoholism</th>\n",
       "      <th>Handcap</th>\n",
       "      <th>SMS_received</th>\n",
       "      <th>No-show</th>\n",
       "    </tr>\n",
       "  </thead>\n",
       "  <tbody>\n",
       "    <tr>\n",
       "      <th>0</th>\n",
       "      <td>4.738527e+13</td>\n",
       "      <td>5387604</td>\n",
       "      <td>0</td>\n",
       "      <td>0</td>\n",
       "      <td>0</td>\n",
       "      <td>NaN</td>\n",
       "      <td>0</td>\n",
       "      <td>0</td>\n",
       "      <td>0</td>\n",
       "      <td>0</td>\n",
       "      <td>0</td>\n",
       "      <td>0</td>\n",
       "      <td>0</td>\n",
       "      <td>No</td>\n",
       "    </tr>\n",
       "    <tr>\n",
       "      <th>1</th>\n",
       "      <td>6.557495e+13</td>\n",
       "      <td>5655266</td>\n",
       "      <td>1</td>\n",
       "      <td>1</td>\n",
       "      <td>1</td>\n",
       "      <td>4.0</td>\n",
       "      <td>-1</td>\n",
       "      <td>-1</td>\n",
       "      <td>-1</td>\n",
       "      <td>0</td>\n",
       "      <td>0</td>\n",
       "      <td>0</td>\n",
       "      <td>0</td>\n",
       "      <td>No</td>\n",
       "    </tr>\n",
       "    <tr>\n",
       "      <th>2</th>\n",
       "      <td>1.265473e+11</td>\n",
       "      <td>5745855</td>\n",
       "      <td>0</td>\n",
       "      <td>2</td>\n",
       "      <td>2</td>\n",
       "      <td>19.0</td>\n",
       "      <td>1</td>\n",
       "      <td>0</td>\n",
       "      <td>0</td>\n",
       "      <td>0</td>\n",
       "      <td>0</td>\n",
       "      <td>0</td>\n",
       "      <td>0</td>\n",
       "      <td>No</td>\n",
       "    </tr>\n",
       "    <tr>\n",
       "      <th>3</th>\n",
       "      <td>2.681769e+13</td>\n",
       "      <td>5700247</td>\n",
       "      <td>0</td>\n",
       "      <td>3</td>\n",
       "      <td>3</td>\n",
       "      <td>55.0</td>\n",
       "      <td>2</td>\n",
       "      <td>0</td>\n",
       "      <td>1</td>\n",
       "      <td>0</td>\n",
       "      <td>0</td>\n",
       "      <td>0</td>\n",
       "      <td>0</td>\n",
       "      <td>No</td>\n",
       "    </tr>\n",
       "    <tr>\n",
       "      <th>4</th>\n",
       "      <td>7.813565e+13</td>\n",
       "      <td>5656211</td>\n",
       "      <td>0</td>\n",
       "      <td>4</td>\n",
       "      <td>4</td>\n",
       "      <td>0.0</td>\n",
       "      <td>3</td>\n",
       "      <td>-1</td>\n",
       "      <td>0</td>\n",
       "      <td>0</td>\n",
       "      <td>0</td>\n",
       "      <td>0</td>\n",
       "      <td>0</td>\n",
       "      <td>No</td>\n",
       "    </tr>\n",
       "  </tbody>\n",
       "</table>\n",
       "</div>"
      ],
      "text/plain": [
       "      PatientId  AppointmentID  Sex  ScheduledDate  AppointmentDate   Age  \\\n",
       "0  4.738527e+13        5387604    0              0                0   NaN   \n",
       "1  6.557495e+13        5655266    1              1                1   4.0   \n",
       "2  1.265473e+11        5745855    0              2                2  19.0   \n",
       "3  2.681769e+13        5700247    0              3                3  55.0   \n",
       "4  7.813565e+13        5656211    0              4                4   0.0   \n",
       "\n",
       "   Community  SocialWelfare  Hipertension  Diabetes  Alcoholism  Handcap  \\\n",
       "0          0              0             0         0           0        0   \n",
       "1         -1             -1            -1         0           0        0   \n",
       "2          1              0             0         0           0        0   \n",
       "3          2              0             1         0           0        0   \n",
       "4          3             -1             0         0           0        0   \n",
       "\n",
       "   SMS_received No-show  \n",
       "0             0      No  \n",
       "1             0      No  \n",
       "2             0      No  \n",
       "3             0      No  \n",
       "4             0      No  "
      ]
     },
     "execution_count": 5,
     "metadata": {},
     "output_type": "execute_result"
    }
   ],
   "source": [
    "hospital_df.head()"
   ]
  },
  {
   "cell_type": "code",
   "execution_count": 6,
   "metadata": {},
   "outputs": [],
   "source": [
    "# remove all nan (just for this example! You should find other ways of dealing with Nan's)\n",
    "hospital_df = hospital_df.dropna()\n",
    "\n",
    "# apply train test split\n",
    "X = hospital_df.drop([\"No-show\"], axis=1)\n",
    "y = hospital_df[\"No-show\"]\n",
    "\n",
    "X_train, X_test, y_train, y_test = train_test_split(X, y, test_size = 0.2, stratify=y, random_state=1)\n",
    "\n",
    "# instantiate plain decision tree classifier\n",
    "clf = DecisionTreeClassifier()\n",
    "\n",
    "# train plain decision tree classifier\n",
    "clf.fit(X_train, y_train)\n",
    "\n",
    "# predict for all appointment ids\n",
    "y_pred = clf.predict(X_test)"
   ]
  },
  {
   "cell_type": "code",
   "execution_count": 7,
   "metadata": {},
   "outputs": [
    {
     "name": "stdout",
     "output_type": "stream",
     "text": [
      "              precision    recall  f1-score   support\n",
      "\n",
      "          No       0.83      0.80      0.81     12704\n",
      "         Yes       0.30      0.33      0.31      3219\n",
      "\n",
      "    accuracy                           0.71     15923\n",
      "   macro avg       0.56      0.57      0.56     15923\n",
      "weighted avg       0.72      0.71      0.71     15923\n",
      "\n"
     ]
    }
   ],
   "source": [
    "from sklearn.metrics import classification_report\n",
    "print(classification_report(y_test, y_pred))"
   ]
  },
  {
   "cell_type": "markdown",
   "metadata": {},
   "source": [
    "## 2. Use Classifier on Test-set"
   ]
  },
  {
   "cell_type": "code",
   "execution_count": 8,
   "metadata": {},
   "outputs": [],
   "source": [
    "# get test-data\n",
    "test_df = pd.read_csv(\"C:/Users/Vic/Desktop/Data Scienece/Datasets-20231016/test.csv\")"
   ]
  },
  {
   "cell_type": "code",
   "execution_count": 9,
   "metadata": {},
   "outputs": [
    {
     "name": "stdout",
     "output_type": "stream",
     "text": [
      "<class 'pandas.core.frame.DataFrame'>\n",
      "Index: 79614 entries, 1 to 88420\n",
      "Data columns (total 14 columns):\n",
      " #   Column           Non-Null Count  Dtype  \n",
      "---  ------           --------------  -----  \n",
      " 0   PatientId        79614 non-null  float64\n",
      " 1   AppointmentID    79614 non-null  int64  \n",
      " 2   Sex              79614 non-null  int64  \n",
      " 3   ScheduledDate    79614 non-null  int64  \n",
      " 4   AppointmentDate  79614 non-null  int64  \n",
      " 5   Age              79614 non-null  float64\n",
      " 6   Community        79614 non-null  int64  \n",
      " 7   SocialWelfare    79614 non-null  int64  \n",
      " 8   Hipertension     79614 non-null  int64  \n",
      " 9   Diabetes         79614 non-null  int64  \n",
      " 10  Alcoholism       79614 non-null  int64  \n",
      " 11  Handcap          79614 non-null  int64  \n",
      " 12  SMS_received     79614 non-null  int64  \n",
      " 13  No-show          79614 non-null  object \n",
      "dtypes: float64(2), int64(11), object(1)\n",
      "memory usage: 9.1+ MB\n"
     ]
    }
   ],
   "source": [
    "hospital_df.info()"
   ]
  },
  {
   "cell_type": "markdown",
   "metadata": {},
   "source": []
  },
  {
   "cell_type": "code",
   "execution_count": 10,
   "metadata": {},
   "outputs": [
    {
     "data": {
      "text/html": [
       "<div>\n",
       "<style scoped>\n",
       "    .dataframe tbody tr th:only-of-type {\n",
       "        vertical-align: middle;\n",
       "    }\n",
       "\n",
       "    .dataframe tbody tr th {\n",
       "        vertical-align: top;\n",
       "    }\n",
       "\n",
       "    .dataframe thead th {\n",
       "        text-align: right;\n",
       "    }\n",
       "</style>\n",
       "<table border=\"1\" class=\"dataframe\">\n",
       "  <thead>\n",
       "    <tr style=\"text-align: right;\">\n",
       "      <th></th>\n",
       "      <th>PatientId</th>\n",
       "      <th>AppointmentID</th>\n",
       "      <th>Sex</th>\n",
       "      <th>ScheduledDate</th>\n",
       "      <th>AppointmentDate</th>\n",
       "      <th>Age</th>\n",
       "      <th>Community</th>\n",
       "      <th>SocialWelfare</th>\n",
       "      <th>Hipertension</th>\n",
       "      <th>Diabetes</th>\n",
       "      <th>Alcoholism</th>\n",
       "      <th>Handcap</th>\n",
       "      <th>SMS_received</th>\n",
       "    </tr>\n",
       "  </thead>\n",
       "  <tbody>\n",
       "    <tr>\n",
       "      <th>0</th>\n",
       "      <td>9.225282e+13</td>\n",
       "      <td>5620835</td>\n",
       "      <td>F</td>\n",
       "      <td>2016-04-26T09:30:02Z</td>\n",
       "      <td>2016-05-10T00:00:00Z</td>\n",
       "      <td>30.0</td>\n",
       "      <td>SANTO ANTÔNIO</td>\n",
       "      <td>no</td>\n",
       "      <td>no</td>\n",
       "      <td>no</td>\n",
       "      <td>no</td>\n",
       "      <td>no</td>\n",
       "      <td>yes</td>\n",
       "    </tr>\n",
       "    <tr>\n",
       "      <th>1</th>\n",
       "      <td>6.649380e+13</td>\n",
       "      <td>5741692</td>\n",
       "      <td>M</td>\n",
       "      <td>2016-05-30T07:20:39Z</td>\n",
       "      <td>2016-05-31T00:00:00Z</td>\n",
       "      <td>51.0</td>\n",
       "      <td>CRUZAMENTO</td>\n",
       "      <td>no</td>\n",
       "      <td>no</td>\n",
       "      <td>no</td>\n",
       "      <td>NaN</td>\n",
       "      <td>no</td>\n",
       "      <td>no</td>\n",
       "    </tr>\n",
       "    <tr>\n",
       "      <th>2</th>\n",
       "      <td>9.986664e+12</td>\n",
       "      <td>5673005</td>\n",
       "      <td>M</td>\n",
       "      <td>2016-05-09T08:47:24Z</td>\n",
       "      <td>2016-05-11T00:00:00Z</td>\n",
       "      <td>37.0</td>\n",
       "      <td>CENTRO</td>\n",
       "      <td>no</td>\n",
       "      <td>no</td>\n",
       "      <td>no</td>\n",
       "      <td>no</td>\n",
       "      <td>no</td>\n",
       "      <td>no</td>\n",
       "    </tr>\n",
       "    <tr>\n",
       "      <th>3</th>\n",
       "      <td>2.225661e+14</td>\n",
       "      <td>5579701</td>\n",
       "      <td>M</td>\n",
       "      <td>2016-04-13T15:26:41Z</td>\n",
       "      <td>2016-05-03T00:00:00Z</td>\n",
       "      <td>62.0</td>\n",
       "      <td>JARDIM DA PENHA</td>\n",
       "      <td>no</td>\n",
       "      <td>no</td>\n",
       "      <td>no</td>\n",
       "      <td>no</td>\n",
       "      <td>no</td>\n",
       "      <td>yes</td>\n",
       "    </tr>\n",
       "    <tr>\n",
       "      <th>4</th>\n",
       "      <td>3.887690e+14</td>\n",
       "      <td>5652332</td>\n",
       "      <td>M</td>\n",
       "      <td>2016-05-03T09:57:33Z</td>\n",
       "      <td>2016-05-24T00:00:00Z</td>\n",
       "      <td>69.0</td>\n",
       "      <td>PRAIA DO SUÁ</td>\n",
       "      <td>no</td>\n",
       "      <td>no</td>\n",
       "      <td>no</td>\n",
       "      <td>no</td>\n",
       "      <td>no</td>\n",
       "      <td>yes</td>\n",
       "    </tr>\n",
       "  </tbody>\n",
       "</table>\n",
       "</div>"
      ],
      "text/plain": [
       "      PatientId  AppointmentID Sex         ScheduledDate  \\\n",
       "0  9.225282e+13        5620835   F  2016-04-26T09:30:02Z   \n",
       "1  6.649380e+13        5741692   M  2016-05-30T07:20:39Z   \n",
       "2  9.986664e+12        5673005   M  2016-05-09T08:47:24Z   \n",
       "3  2.225661e+14        5579701   M  2016-04-13T15:26:41Z   \n",
       "4  3.887690e+14        5652332   M  2016-05-03T09:57:33Z   \n",
       "\n",
       "        AppointmentDate   Age        Community SocialWelfare Hipertension  \\\n",
       "0  2016-05-10T00:00:00Z  30.0    SANTO ANTÔNIO            no           no   \n",
       "1  2016-05-31T00:00:00Z  51.0       CRUZAMENTO            no           no   \n",
       "2  2016-05-11T00:00:00Z  37.0           CENTRO            no           no   \n",
       "3  2016-05-03T00:00:00Z  62.0  JARDIM DA PENHA            no           no   \n",
       "4  2016-05-24T00:00:00Z  69.0     PRAIA DO SUÁ            no           no   \n",
       "\n",
       "  Diabetes Alcoholism Handcap SMS_received  \n",
       "0       no         no      no          yes  \n",
       "1       no        NaN      no           no  \n",
       "2       no         no      no           no  \n",
       "3       no         no      no          yes  \n",
       "4       no         no      no          yes  "
      ]
     },
     "execution_count": 10,
     "metadata": {},
     "output_type": "execute_result"
    }
   ],
   "source": [
    "test_df.head()"
   ]
  },
  {
   "cell_type": "code",
   "execution_count": 11,
   "metadata": {},
   "outputs": [],
   "source": [
    "# apply all data transformations (typically via pipeline)\n",
    "\n",
    "# naive dummy coding approach. Your's should be better ;-)\n",
    "test_df['Sex'] = pd.factorize(test_df['Sex'])[0]\n",
    "test_df['Community'] = pd.factorize(test_df['Community'])[0]\n",
    "test_df['SocialWelfare'] = pd.factorize(test_df['SocialWelfare'])[0]\n",
    "test_df['Hipertension'] = pd.factorize(test_df['Hipertension'])[0]\n",
    "test_df['Diabetes'] = pd.factorize(test_df['Diabetes'])[0]\n",
    "test_df['Alcoholism'] = pd.factorize(test_df['Alcoholism'])[0]\n",
    "test_df['Handcap'] = pd.factorize(test_df['Handcap'])[0]\n",
    "test_df['SMS_received'] = pd.factorize(test_df['SMS_received'])[0]\n",
    "test_df['ScheduledDate'] = pd.factorize(test_df['ScheduledDate'])[0]\n",
    "test_df['AppointmentDate'] = pd.factorize(test_df['AppointmentDate'])[0]"
   ]
  },
  {
   "cell_type": "code",
   "execution_count": 12,
   "metadata": {},
   "outputs": [],
   "source": [
    "# make predictions\n",
    "predictions = clf.predict(test_df)"
   ]
  },
  {
   "cell_type": "code",
   "execution_count": 13,
   "metadata": {},
   "outputs": [
    {
     "data": {
      "text/plain": [
       "array(['No', 'No', 'Yes', ..., 'Yes', 'No', 'Yes'], dtype=object)"
      ]
     },
     "execution_count": 13,
     "metadata": {},
     "output_type": "execute_result"
    }
   ],
   "source": [
    "predictions"
   ]
  },
  {
   "cell_type": "code",
   "execution_count": 14,
   "metadata": {},
   "outputs": [],
   "source": [
    "# create dataframe with IDs and predictions\n",
    "submission = pd.DataFrame({'AppointmentID': test_df['AppointmentID'], 'No-show': predictions})"
   ]
  },
  {
   "cell_type": "code",
   "execution_count": 15,
   "metadata": {},
   "outputs": [
    {
     "data": {
      "text/html": [
       "<div>\n",
       "<style scoped>\n",
       "    .dataframe tbody tr th:only-of-type {\n",
       "        vertical-align: middle;\n",
       "    }\n",
       "\n",
       "    .dataframe tbody tr th {\n",
       "        vertical-align: top;\n",
       "    }\n",
       "\n",
       "    .dataframe thead th {\n",
       "        text-align: right;\n",
       "    }\n",
       "</style>\n",
       "<table border=\"1\" class=\"dataframe\">\n",
       "  <thead>\n",
       "    <tr style=\"text-align: right;\">\n",
       "      <th></th>\n",
       "      <th>AppointmentID</th>\n",
       "      <th>No-show</th>\n",
       "    </tr>\n",
       "  </thead>\n",
       "  <tbody>\n",
       "    <tr>\n",
       "      <th>0</th>\n",
       "      <td>5620835</td>\n",
       "      <td>No</td>\n",
       "    </tr>\n",
       "    <tr>\n",
       "      <th>1</th>\n",
       "      <td>5741692</td>\n",
       "      <td>No</td>\n",
       "    </tr>\n",
       "    <tr>\n",
       "      <th>2</th>\n",
       "      <td>5673005</td>\n",
       "      <td>Yes</td>\n",
       "    </tr>\n",
       "    <tr>\n",
       "      <th>3</th>\n",
       "      <td>5579701</td>\n",
       "      <td>Yes</td>\n",
       "    </tr>\n",
       "    <tr>\n",
       "      <th>4</th>\n",
       "      <td>5652332</td>\n",
       "      <td>No</td>\n",
       "    </tr>\n",
       "    <tr>\n",
       "      <th>...</th>\n",
       "      <td>...</td>\n",
       "      <td>...</td>\n",
       "    </tr>\n",
       "    <tr>\n",
       "      <th>22101</th>\n",
       "      <td>5728772</td>\n",
       "      <td>No</td>\n",
       "    </tr>\n",
       "    <tr>\n",
       "      <th>22102</th>\n",
       "      <td>5721034</td>\n",
       "      <td>No</td>\n",
       "    </tr>\n",
       "    <tr>\n",
       "      <th>22103</th>\n",
       "      <td>5413621</td>\n",
       "      <td>Yes</td>\n",
       "    </tr>\n",
       "    <tr>\n",
       "      <th>22104</th>\n",
       "      <td>5746319</td>\n",
       "      <td>No</td>\n",
       "    </tr>\n",
       "    <tr>\n",
       "      <th>22105</th>\n",
       "      <td>5656497</td>\n",
       "      <td>Yes</td>\n",
       "    </tr>\n",
       "  </tbody>\n",
       "</table>\n",
       "<p>22106 rows × 2 columns</p>\n",
       "</div>"
      ],
      "text/plain": [
       "       AppointmentID No-show\n",
       "0            5620835      No\n",
       "1            5741692      No\n",
       "2            5673005     Yes\n",
       "3            5579701     Yes\n",
       "4            5652332      No\n",
       "...              ...     ...\n",
       "22101        5728772      No\n",
       "22102        5721034      No\n",
       "22103        5413621     Yes\n",
       "22104        5746319      No\n",
       "22105        5656497     Yes\n",
       "\n",
       "[22106 rows x 2 columns]"
      ]
     },
     "execution_count": 15,
     "metadata": {},
     "output_type": "execute_result"
    }
   ],
   "source": [
    "submission"
   ]
  },
  {
   "cell_type": "code",
   "execution_count": 16,
   "metadata": {},
   "outputs": [],
   "source": [
    "# Naming sould have the following format\n",
    "filepath = 'C:/Users/Vic/Desktop/Data Scienece/Datasets-20231016/Hospital_Predictions_1.csv'\n",
    "submission.to_csv(filepath, index=False)"
   ]
  },
  {
   "cell_type": "code",
   "execution_count": null,
   "metadata": {},
   "outputs": [],
   "source": []
  }
 ],
 "metadata": {
  "kernelspec": {
   "display_name": "venv",
   "language": "python",
   "name": "python3"
  },
  "language_info": {
   "codemirror_mode": {
    "name": "ipython",
    "version": 3
   },
   "file_extension": ".py",
   "mimetype": "text/x-python",
   "name": "python",
   "nbconvert_exporter": "python",
   "pygments_lexer": "ipython3",
   "version": "3.11.6"
  }
 },
 "nbformat": 4,
 "nbformat_minor": 2
}
