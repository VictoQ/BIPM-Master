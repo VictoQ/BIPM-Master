{
 "cells": [
  {
   "cell_type": "code",
   "execution_count": 23,
   "metadata": {},
   "outputs": [],
   "source": [
    "import random\n",
    "random.seed(1000)\n",
    "import matplotlib.pyplot as plt\n",
    "from timeit import default_timer as timer"
   ]
  },
  {
   "cell_type": "code",
   "execution_count": 24,
   "metadata": {},
   "outputs": [],
   "source": [
    "n = 100\n",
    "items = [int(random.random()*n) for _ in range(n)] #Here we create a list with 100 items\n",
    "i = int(random.random()*n)"
   ]
  },
  {
   "cell_type": "code",
   "execution_count": 25,
   "metadata": {},
   "outputs": [
    {
     "data": {
      "text/plain": [
       "100"
      ]
     },
     "execution_count": 25,
     "metadata": {},
     "output_type": "execute_result"
    }
   ],
   "source": [
    "n"
   ]
  },
  {
   "cell_type": "code",
   "execution_count": 26,
   "metadata": {},
   "outputs": [],
   "source": [
    "def calc_mean(items): #Here we create a function that will calcuate the mean of that list\n",
    "    n = 0\n",
    "    sum_of_items = 0\n",
    "    for item in items:\n",
    "        sum_of_items += item\n",
    "        n += 1\n",
    "    return sum_of_items / n"
   ]
  },
  {
   "cell_type": "code",
   "execution_count": 27,
   "metadata": {},
   "outputs": [
    {
     "data": {
      "text/plain": [
       "49.41"
      ]
     },
     "execution_count": 27,
     "metadata": {},
     "output_type": "execute_result"
    }
   ],
   "source": [
    "calc_mean(items)"
   ]
  },
  {
   "cell_type": "code",
   "execution_count": 28,
   "metadata": {},
   "outputs": [
    {
     "data": {
      "text/plain": [
       "49.41"
      ]
     },
     "execution_count": 28,
     "metadata": {},
     "output_type": "execute_result"
    }
   ],
   "source": [
    "sum(items)/len(items) #Built in functions sum and len --> Same Result"
   ]
  },
  {
   "cell_type": "markdown",
   "metadata": {},
   "source": [
    "Is the built in function faster then our method? --> Lets time it"
   ]
  },
  {
   "cell_type": "markdown",
   "metadata": {},
   "source": [
    "# Different Timing Possibilities"
   ]
  },
  {
   "cell_type": "code",
   "execution_count": 29,
   "metadata": {},
   "outputs": [
    {
     "name": "stdout",
     "output_type": "stream",
     "text": [
      "3.38 µs ± 36.7 ns per loop (mean ± std. dev. of 7 runs, 100,000 loops each)\n"
     ]
    }
   ],
   "source": [
    "%%timeit #Timeit function\n",
    "calc_mean(items)"
   ]
  },
  {
   "cell_type": "code",
   "execution_count": 30,
   "metadata": {},
   "outputs": [
    {
     "name": "stdout",
     "output_type": "stream",
     "text": [
      "508 ns ± 1.78 ns per loop (mean ± std. dev. of 7 runs, 1,000,000 loops each)\n"
     ]
    }
   ],
   "source": [
    "%%timeit\n",
    "sum(items)/len(items)"
   ]
  },
  {
   "cell_type": "code",
   "execution_count": 67,
   "metadata": {},
   "outputs": [
    {
     "name": "stdout",
     "output_type": "stream",
     "text": [
      "58.8 µs ± 1.93 µs per loop (mean ± std. dev. of 7 runs, 10,000 loops each)\n",
      "58.8 µs ± 1.93 µs per loop (mean ± std. dev. of 7 runs, 10,000 loops each)\n"
     ]
    }
   ],
   "source": [
    "time = %timeit -o calc_mean(items) #Originall -oq, but here not working, why?\n",
    "print(time)"
   ]
  },
  {
   "cell_type": "code",
   "execution_count": 51,
   "metadata": {},
   "outputs": [
    {
     "name": "stdout",
     "output_type": "stream",
     "text": [
      "9.930000032909447e-05\n"
     ]
    }
   ],
   "source": [
    "start = timer() #Additional way of timing\n",
    "calc_mean(items)\n",
    "end = timer() \n",
    "\n",
    "time = end - start\n",
    "print(time)\n",
    "# Time in seconds"
   ]
  },
  {
   "cell_type": "markdown",
   "metadata": {},
   "source": [
    "# Algorithms with Different Time Complexity"
   ]
  },
  {
   "cell_type": "code",
   "execution_count": 52,
   "metadata": {},
   "outputs": [],
   "source": [
    "def get_first_item(items): \n",
    "    \"\"\"Get the first item in a list\n",
    "    \n",
    "    :param items: list of items\n",
    "    :returns: first element\n",
    "    \"\"\"\n",
    "    return(items[0]) #return first element of a list"
   ]
  },
  {
   "cell_type": "code",
   "execution_count": 53,
   "metadata": {},
   "outputs": [],
   "source": [
    "def get_any_item(items, i):\n",
    "    if i == -1:\n",
    "        print(\"Not in the list\")\n",
    "    else:\n",
    "        return(items[i]) #Roland \"The second function will get some item of the list\""
   ]
  },
  {
   "cell_type": "code",
   "execution_count": 54,
   "metadata": {},
   "outputs": [],
   "source": [
    "def find_max(items): #find_max will find the maximum element of the list\n",
    "    \"\"\"Get the maximum value in a list of items\n",
    "    \n",
    "    :param items: list of items\n",
    "    :returns: maximum value in the list\n",
    "    \"\"\"\n",
    "    max = -1000000000\n",
    "    for item in items:\n",
    "        if item > max:\n",
    "            max = item\n",
    "    return max"
   ]
  },
  {
   "cell_type": "code",
   "execution_count": 55,
   "metadata": {},
   "outputs": [],
   "source": [
    "def find_minmax1(items): #Minmax finds minimum and maximum element of the list\n",
    "    \"\"\"Get the maximum value in a list of items\n",
    "    \n",
    "    :param items: list of items\n",
    "    :returns: tuple of mininum and maximum values \n",
    "    \"\"\"\n",
    "    max = -1000000000000\n",
    "    min = 10000000000000\n",
    "    for item in items:\n",
    "        if item > max:\n",
    "            max = item\n",
    "            \n",
    "    for item in items:\n",
    "        if item < min:\n",
    "            min = item\n",
    "    return (min, max)"
   ]
  },
  {
   "cell_type": "code",
   "execution_count": 56,
   "metadata": {},
   "outputs": [],
   "source": [
    "def find_minmax2(items):\n",
    "    \"\"\"Get the maximum value in a list of items\n",
    "    \n",
    "    :param items: list of items\n",
    "    :returns: tuple of mininum and maximum values \n",
    "    \"\"\"\n",
    "    max = -1000000000000\n",
    "    min = 10000000000000\n",
    "    for item in items:\n",
    "        if item > max:\n",
    "            max = item\n",
    "        if item < min:\n",
    "            min = item\n",
    "    return (min, max)"
   ]
  },
  {
   "cell_type": "code",
   "execution_count": 57,
   "metadata": {},
   "outputs": [],
   "source": [
    "def all_combinations(items): #creates a new list out of the input list with all the combination of all elements\n",
    "    combinations = []\n",
    "    for item1 in items:\n",
    "        for item2 in items:\n",
    "            combinations.append((item1, item2))\n",
    "    return combinations"
   ]
  },
  {
   "cell_type": "markdown",
   "metadata": {},
   "source": [
    "# Comparision of Times\n",
    "\n",
    "| Symbol  | Name        | Unit      |\n",
    "|---------|-------------|-----------|\n",
    "| ns      | nanosecond  | $10^{-9}$ |\n",
    "| μs (us) | microsecond | $10^{-6}$ |\n",
    "| ms      | millisecond | $10^{-3}$ |\n",
    "| s       | second      | $10^{0}$|"
   ]
  },
  {
   "cell_type": "markdown",
   "metadata": {},
   "source": [
    "# Timing of the Algorithms"
   ]
  },
  {
   "cell_type": "code",
   "execution_count": 58,
   "metadata": {},
   "outputs": [
    {
     "name": "stdout",
     "output_type": "stream",
     "text": [
      "85.2 ns ± 0.654 ns per loop (mean ± std. dev. of 7 runs, 10,000,000 loops each)\n"
     ]
    }
   ],
   "source": [
    "%%timeit\n",
    "get_first_item(items)"
   ]
  },
  {
   "cell_type": "code",
   "execution_count": 59,
   "metadata": {},
   "outputs": [
    {
     "name": "stdout",
     "output_type": "stream",
     "text": [
      "97.7 ns ± 2.77 ns per loop (mean ± std. dev. of 7 runs, 10,000,000 loops each)\n"
     ]
    }
   ],
   "source": [
    "%%timeit\n",
    "get_any_item(items, i)"
   ]
  },
  {
   "cell_type": "code",
   "execution_count": 60,
   "metadata": {},
   "outputs": [
    {
     "name": "stdout",
     "output_type": "stream",
     "text": [
      "3.12 µs ± 91.2 ns per loop (mean ± std. dev. of 7 runs, 100,000 loops each)\n"
     ]
    }
   ],
   "source": [
    "%%timeit\n",
    "find_max(items)"
   ]
  },
  {
   "cell_type": "code",
   "execution_count": 61,
   "metadata": {},
   "outputs": [
    {
     "name": "stdout",
     "output_type": "stream",
     "text": [
      "5.63 µs ± 147 ns per loop (mean ± std. dev. of 7 runs, 100,000 loops each)\n"
     ]
    }
   ],
   "source": [
    "%%timeit\n",
    "find_minmax1(items)"
   ]
  },
  {
   "cell_type": "code",
   "execution_count": 62,
   "metadata": {},
   "outputs": [
    {
     "name": "stdout",
     "output_type": "stream",
     "text": [
      "4.14 µs ± 115 ns per loop (mean ± std. dev. of 7 runs, 100,000 loops each)\n"
     ]
    }
   ],
   "source": [
    "%%timeit\n",
    "find_minmax2(items)"
   ]
  },
  {
   "cell_type": "code",
   "execution_count": 63,
   "metadata": {},
   "outputs": [
    {
     "name": "stdout",
     "output_type": "stream",
     "text": [
      "1 ms ± 30.7 µs per loop (mean ± std. dev. of 7 runs, 1,000 loops each)\n"
     ]
    }
   ],
   "source": [
    "%%timeit\n",
    "all_combinations(items)"
   ]
  },
  {
   "cell_type": "markdown",
   "metadata": {},
   "source": [
    "# Plotting Time as a Function of Input Size n"
   ]
  },
  {
   "cell_type": "code",
   "execution_count": 64,
   "metadata": {},
   "outputs": [],
   "source": [
    "list_of_n = [10, 50, 100, 200, 300, 400, 600, 800] #different sizes"
   ]
  },
  {
   "cell_type": "markdown",
   "metadata": {},
   "source": [
    "## Constant"
   ]
  },
  {
   "cell_type": "code",
   "execution_count": 65,
   "metadata": {},
   "outputs": [
    {
     "name": "stdout",
     "output_type": "stream",
     "text": [
      "84.9 ns ± 2.37 ns per loop (mean ± std. dev. of 7 runs, 10,000,000 loops each)\n",
      "66.4 ns ± 11 ns per loop (mean ± std. dev. of 7 runs, 10,000,000 loops each)\n",
      "57.1 ns ± 0.791 ns per loop (mean ± std. dev. of 7 runs, 10,000,000 loops each)\n",
      "60.7 ns ± 0.567 ns per loop (mean ± std. dev. of 7 runs, 10,000,000 loops each)\n",
      "60.5 ns ± 0.724 ns per loop (mean ± std. dev. of 7 runs, 10,000,000 loops each)\n",
      "60.4 ns ± 1.69 ns per loop (mean ± std. dev. of 7 runs, 10,000,000 loops each)\n",
      "60.7 ns ± 0.445 ns per loop (mean ± std. dev. of 7 runs, 10,000,000 loops each)\n",
      "60 ns ± 1.23 ns per loop (mean ± std. dev. of 7 runs, 10,000,000 loops each)\n"
     ]
    },
    {
     "data": {
      "image/png": "[encoded data removed]",
      "text/plain": [
       "<Figure size 640x480 with 1 Axes>"
      ]
     },
     "metadata": {},
     "output_type": "display_data"
    }
   ],
   "source": [
    "measures = [] #For each of this input size well create a new list with random input and time how fast our function here is\n",
    "for n in list_of_n:\n",
    "    items = [int(random.random()*n) for _ in range(n)]\n",
    "    time = %timeit -o get_first_item(items)\n",
    "    measures.append((n, time.average))\n",
    "plt.plot(*zip(*measures))\n",
    "plt.ylim(ymin=0)\n",
    "plt.show()"
   ]
  },
  {
   "cell_type": "markdown",
   "metadata": {},
   "source": [
    "## Linear"
   ]
  },
  {
   "cell_type": "code",
   "execution_count": 66,
   "metadata": {},
   "outputs": [
    {
     "name": "stdout",
     "output_type": "stream",
     "text": [
      "429 ns ± 14.5 ns per loop (mean ± std. dev. of 7 runs, 1,000,000 loops each)\n",
      "1.31 µs ± 226 ns per loop (mean ± std. dev. of 7 runs, 1,000,000 loops each)\n",
      "2.24 µs ± 8.56 ns per loop (mean ± std. dev. of 7 runs, 1,000,000 loops each)\n",
      "4.39 µs ± 144 ns per loop (mean ± std. dev. of 7 runs, 100,000 loops each)\n",
      "6.67 µs ± 156 ns per loop (mean ± std. dev. of 7 runs, 100,000 loops each)\n",
      "8.84 µs ± 145 ns per loop (mean ± std. dev. of 7 runs, 100,000 loops each)\n",
      "12.9 µs ± 131 ns per loop (mean ± std. dev. of 7 runs, 100,000 loops each)\n",
      "17.2 µs ± 272 ns per loop (mean ± std. dev. of 7 runs, 100,000 loops each)\n"
     ]
    },
    {
     "data": {
      "image/png": "[encoded data removed]",
      "text/plain": [
       "<Figure size 640x480 with 1 Axes>"
      ]
     },
     "metadata": {},
     "output_type": "display_data"
    }
   ],
   "source": [
    "measures = [] # Measure how long it takes to get the maximum of the list\n",
    "for n in list_of_n:\n",
    "    items = [int(random.random()*n) for _ in range(n)]\n",
    "    time = %timeit -o find_max(items)\n",
    "    measures.append((n, time.average))\n",
    "plt.plot(*zip(*measures))\n",
    "plt.ylim(ymin=0)\n",
    "plt.show()"
   ]
  },
  {
   "cell_type": "code",
   "execution_count": 68,
   "metadata": {},
   "outputs": [
    {
     "name": "stdout",
     "output_type": "stream",
     "text": [
      "869 ns ± 8.45 ns per loop (mean ± std. dev. of 7 runs, 1,000,000 loops each)\n",
      "2.76 µs ± 490 ns per loop (mean ± std. dev. of 7 runs, 100,000 loops each)\n",
      "4.04 µs ± 75.4 ns per loop (mean ± std. dev. of 7 runs, 100,000 loops each)\n",
      "7.62 µs ± 340 ns per loop (mean ± std. dev. of 7 runs, 100,000 loops each)\n",
      "11.2 µs ± 79 ns per loop (mean ± std. dev. of 7 runs, 100,000 loops each)\n",
      "14.8 µs ± 126 ns per loop (mean ± std. dev. of 7 runs, 100,000 loops each)\n",
      "22.6 µs ± 679 ns per loop (mean ± std. dev. of 7 runs, 10,000 loops each)\n",
      "29.2 µs ± 509 ns per loop (mean ± std. dev. of 7 runs, 10,000 loops each)\n"
     ]
    },
    {
     "data": {
      "image/png": "[encoded data removed]",
      "text/plain": [
       "<Figure size 640x480 with 1 Axes>"
      ]
     },
     "metadata": {},
     "output_type": "display_data"
    }
   ],
   "source": [
    "measures = []\n",
    "for n in list_of_n:\n",
    "    items = [int(random.random()*n) for _ in range(n)]\n",
    "    time = %timeit -o find_minmax1(items)\n",
    "    measures.append((n, time.average))\n",
    "plt.plot(*zip(*measures))\n",
    "plt.ylim(ymin=0)\n",
    "plt.show()"
   ]
  },
  {
   "cell_type": "code",
   "execution_count": 69,
   "metadata": {},
   "outputs": [
    {
     "name": "stdout",
     "output_type": "stream",
     "text": [
      "682 ns ± 7.49 ns per loop (mean ± std. dev. of 7 runs, 1,000,000 loops each)\n",
      "2.32 µs ± 40.8 ns per loop (mean ± std. dev. of 7 runs, 100,000 loops each)\n",
      "4.13 µs ± 368 ns per loop (mean ± std. dev. of 7 runs, 100,000 loops each)\n",
      "5.91 µs ± 152 ns per loop (mean ± std. dev. of 7 runs, 100,000 loops each)\n",
      "8.06 µs ± 240 ns per loop (mean ± std. dev. of 7 runs, 100,000 loops each)\n",
      "10.9 µs ± 272 ns per loop (mean ± std. dev. of 7 runs, 100,000 loops each)\n",
      "16.1 µs ± 150 ns per loop (mean ± std. dev. of 7 runs, 100,000 loops each)\n",
      "21.8 µs ± 813 ns per loop (mean ± std. dev. of 7 runs, 10,000 loops each)\n"
     ]
    },
    {
     "data": {
      "image/png": "[encoded data removed]",
      "text/plain": [
       "<Figure size 640x480 with 1 Axes>"
      ]
     },
     "metadata": {},
     "output_type": "display_data"
    }
   ],
   "source": [
    "measures = []\n",
    "for n in list_of_n:\n",
    "    items = [int(random.random()*n) for _ in range(n)]\n",
    "    time = %timeit -o find_minmax2(items)\n",
    "    measures.append((n, time.average))\n",
    "plt.plot(*zip(*measures))\n",
    "plt.ylim(ymin=0)\n",
    "plt.show()"
   ]
  },
  {
   "cell_type": "markdown",
   "metadata": {},
   "source": [
    "## Quadratic"
   ]
  },
  {
   "cell_type": "code",
   "execution_count": 70,
   "metadata": {},
   "outputs": [
    {
     "name": "stdout",
     "output_type": "stream",
     "text": [
      "9.41 µs ± 314 ns per loop (mean ± std. dev. of 7 runs, 100,000 loops each)\n",
      "227 µs ± 27.5 µs per loop (mean ± std. dev. of 7 runs, 1,000 loops each)\n",
      "726 µs ± 50.2 µs per loop (mean ± std. dev. of 7 runs, 1,000 loops each)\n",
      "3.01 ms ± 99.8 µs per loop (mean ± std. dev. of 7 runs, 100 loops each)\n",
      "7.99 ms ± 68.8 µs per loop (mean ± std. dev. of 7 runs, 100 loops each)\n",
      "14.3 ms ± 137 µs per loop (mean ± std. dev. of 7 runs, 100 loops each)\n",
      "37.8 ms ± 2.36 ms per loop (mean ± std. dev. of 7 runs, 10 loops each)\n",
      "71.1 ms ± 1.39 ms per loop (mean ± std. dev. of 7 runs, 10 loops each)\n"
     ]
    },
    {
     "data": {
      "image/png": "[encoded data removed]",
      "text/plain": [
       "<Figure size 640x480 with 1 Axes>"
      ]
     },
     "metadata": {},
     "output_type": "display_data"
    }
   ],
   "source": [
    "measures = []\n",
    "for n in list_of_n:\n",
    "    items = [int(random.random()*n) for _ in range(n)]\n",
    "    time = %timeit -o all_combinations(items)\n",
    "    measures.append((n, time.average))\n",
    "plt.plot(*zip(*measures))\n",
    "plt.ylim(ymin=0)\n",
    "plt.show()"
   ]
  }
 ],
 "metadata": {
  "kernelspec": {
   "display_name": "Python 3",
   "language": "python",
   "name": "python3"
  },
  "language_info": {
   "codemirror_mode": {
    "name": "ipython",
    "version": 3
   },
   "file_extension": ".py",
   "mimetype": "text/x-python",
   "name": "python",
   "nbconvert_exporter": "python",
   "pygments_lexer": "ipython3",
   "version": "3.11.9"
  },
  "varInspector": {
   "cols": {
    "lenName": 16,
    "lenType": 16,
    "lenVar": 40
   },
   "kernels_config": {
    "python": {
     "delete_cmd_postfix": "",
     "delete_cmd_prefix": "del ",
     "library": "var_list.py",
     "varRefreshCmd": "print(var_dic_list())"
    },
    "r": {
     "delete_cmd_postfix": ") ",
     "delete_cmd_prefix": "rm(",
     "library": "var_list.r",
     "varRefreshCmd": "cat(var_dic_list()) "
    }
   },
   "types_to_exclude": [
    "module",
    "function",
    "builtin_function_or_method",
    "instance",
    "_Feature"
   ],
   "window_display": false
  }
 },
 "nbformat": 4,
 "nbformat_minor": 4
}
